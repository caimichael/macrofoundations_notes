{
 "cells": [
  {
   "cell_type": "code",
   "execution_count": 1,
   "metadata": {
    "collapsed": true
   },
   "outputs": [],
   "source": [
    "# riskaversion.ipynb\n",
    "\n",
    "# Find your risk aversion alpha given introspection about your \n",
    "# your certainty equivalent\n",
    "\n",
    "# NYU course ECON-UB 233, Macro foundations for asset pricing.\n",
    "\n",
    "# Written by: Michael Cai for Dave Backus"
   ]
  },
  {
   "cell_type": "code",
   "execution_count": 2,
   "metadata": {
    "collapsed": true
   },
   "outputs": [],
   "source": [
    "%matplotlib inline\n",
    "import numpy as np\n",
    "from math import log\n",
    "from matplotlib import pyplot as plt"
   ]
  },
  {
   "cell_type": "code",
   "execution_count": 4,
   "metadata": {
    "collapsed": false
   },
   "outputs": [
    {
     "data": {
      "image/png": "[encoded data removed]",
      "text/plain": [
       "<matplotlib.figure.Figure at 0x10c26a080>"
      ]
     },
     "metadata": {},
     "output_type": "display_data"
    }
   ],
   "source": [
    "#Risk penalty v. alpha\n",
    "cbar = 150;\n",
    "sigma = 75;\n",
    "c1 = cbar - sigma;\n",
    "c2 = cbar + sigma;\n",
    "\n",
    "amin = 0.11 \n",
    "amax = 10\n",
    "astep = .1\n",
    "alphagrid = np.arange(amin,amax,astep)\n",
    "\n",
    "mulist = []\n",
    "rplist = []\n",
    "\n",
    "for item in alphagrid:\n",
    "    mu = (0.5*c1**(1-item)+0.5*c2**(1-item))**(1/(1-item))\n",
    "    mulist.append(mu)\n",
    "    rplist.append(log(cbar/mu))\n",
    "    \n",
    "plt.plot(alphagrid,rplist)\n",
    "plt.show()"
   ]
  },
  {
   "cell_type": "code",
   "execution_count": 6,
   "metadata": {
    "collapsed": false
   },
   "outputs": [
    {
     "name": "stdout",
     "output_type": "stream",
     "text": [
      "rp = 0.105361\n",
      "mu_guess = 135.260095\n"
     ]
    }
   ],
   "source": [
    "#2. Find your own risk aversion\n",
    "c1 = 100\n",
    "c2 = 200\n",
    "cbar = 150\n",
    "\n",
    "mu = 135               #input from class discussion\n",
    "rp = log(cbar/mu)   \n",
    "print(\"rp = %f\"%rp)\n",
    "\n",
    "alpha = 1.75           #comment: enter number of your choice\n",
    "#the answer\n",
    "mu_guess = (0.5*c1**(1-alpha)+0.5*c2**(1-alpha))**(1/(1-alpha))\n",
    "print(\"mu_guess = %f\"%mu_guess)"
   ]
  },
  {
   "cell_type": "code",
   "execution_count": null,
   "metadata": {
    "collapsed": true
   },
   "outputs": [],
   "source": []
  }
 ],
 "metadata": {
  "kernelspec": {
   "display_name": "Python 3",
   "language": "python",
   "name": "python3"
  },
  "language_info": {
   "codemirror_mode": {
    "name": "ipython",
    "version": 3
   },
   "file_extension": ".py",
   "mimetype": "text/x-python",
   "name": "python",
   "nbconvert_exporter": "python",
   "pygments_lexer": "ipython3",
   "version": "3.5.1"
  }
 },
 "nbformat": 4,
 "nbformat_minor": 0
}
