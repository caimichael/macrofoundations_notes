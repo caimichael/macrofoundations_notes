{
 "cells": [
  {
   "cell_type": "code",
   "execution_count": 1,
   "metadata": {
    "collapsed": true
   },
   "outputs": [],
   "source": [
    "# equity_premium_py2.ipynb\n",
    "# Calculations for pricing kernel chapter\n",
    "# NYU course ECON-UB 233, Macro foundations for asset pricing.\n",
    "# Written by: Michael Cai for Dave Backus"
   ]
  },
  {
   "cell_type": "markdown",
   "metadata": {},
   "source": [
    "**1. Two-state version**"
   ]
  },
  {
   "cell_type": "markdown",
   "metadata": {},
   "source": [
    "Equity premium calculations: two-state version"
   ]
  },
  {
   "cell_type": "code",
   "execution_count": 52,
   "metadata": {
    "collapsed": false
   },
   "outputs": [
    {
     "name": "stdout",
     "output_type": "stream",
     "text": [
      "Inputs :\n",
      "mu_logg = 0.020000\n",
      "sigma_logg = 0.035000\n",
      "omega = 0.500000\n"
     ]
    }
   ],
   "source": [
    "import numpy as np\n",
    "from math import exp, sqrt\n",
    "\n",
    "#(a) compute returns for given alpha\n",
    "print \"Inputs :\"\n",
    "# state and consumption growth\n",
    "mu_logg = 0.0200\n",
    "sigma_logg = 0.0350\n",
    "omega = 0.5\n",
    "\n",
    "print \"mu_logg = %f\" %mu_logg \n",
    "print \"sigma_logg = %f\" %sigma_logg \n",
    "print \"omega = %f\" %omega\n",
    "\n",
    "z = np.array([-1,1])\n",
    "logg = mu_logg + sigma_logg*z\n",
    "\n",
    "g = np.array([exp(logg[0]),exp(logg[1])])\n",
    "p = np.array([omega, 1-omega])"
   ]
  },
  {
   "cell_type": "code",
   "execution_count": 51,
   "metadata": {
    "collapsed": false
   },
   "outputs": [
    {
     "name": "stdout",
     "output_type": "stream",
     "text": [
      "beta = 1\n",
      "alpha = 5\n",
      "lambda = 1 \n",
      "\n",
      "Asset prices and returns \n",
      "\n",
      "m = \n",
      "[ 1.07788415  0.75957212]\n",
      "d = \n",
      "\n",
      "[ 0.98511194  1.05654061]\n",
      "q1 = 0.918728\n",
      "r1 = 1.088461\n",
      "qe = 0.932178\n",
      "Ere = 1.095098\n",
      "eq_premium = 0.006637\n",
      "Std_m = 0.159156\n",
      "Std_m/q1 = 0.173235\n"
     ]
    }
   ],
   "source": [
    "# preferences and asset prices\n",
    "beta = 1\n",
    "alpha = 5\n",
    "lambda_ = 1\n",
    "\n",
    "print \"beta = %d\" %beta\n",
    "print \"alpha = %d\" %alpha\n",
    "print \"lambda = %d \\n\" %lambda_\n",
    "\n",
    "print \"Asset prices and returns \\n\"\n",
    "\n",
    "m = np.array([beta*g[0]**(-alpha),beta*g[1]**(-alpha)])\n",
    "d = np.array([g[0]**lambda_,g[1]**lambda_])\n",
    "\n",
    "print \"m = \" \n",
    "print m\n",
    "print \"d = \\n\"\n",
    "print d\n",
    "\n",
    "q1 = np.sum(p*m)\n",
    "\n",
    "r1 = 1/q1 \n",
    "\n",
    "qe = np.sum(p*m*d)\n",
    "\n",
    "Ere = np.sum(p*d)/qe\n",
    "\n",
    "eq_premium = Ere - r1\n",
    "\n",
    "Var_m = p[0]*m[0]**2 + p[1]*m[1]**2 - q1**2\n",
    "Std_m = sqrt(Var_m)\n",
    "temp = Std_m/q1 #change the name of this variable later. Is this a bound?\n",
    "\n",
    "print \"q1 = %f\" %q1\n",
    "print \"r1 = %f\" %r1\n",
    "print \"qe = %f\" %qe\n",
    "print \"Ere = %f\" %Ere\n",
    "print \"eq_premium = %f\" %eq_premium\n",
    "print \"Std_m = %f\" %Std_m\n",
    "print \"Std_m/q1 = %f\" %temp"
   ]
  },
  {
   "cell_type": "code",
   "execution_count": null,
   "metadata": {
    "collapsed": true
   },
   "outputs": [],
   "source": [
    "#(b) compute for grid of alpha's for figs\n"
   ]
  }
 ],
 "metadata": {
  "kernelspec": {
   "display_name": "Python 2",
   "language": "python",
   "name": "python2"
  },
  "language_info": {
   "codemirror_mode": {
    "name": "ipython",
    "version": 2
   },
   "file_extension": ".py",
   "mimetype": "text/x-python",
   "name": "python",
   "nbconvert_exporter": "python",
   "pygments_lexer": "ipython2",
   "version": "2.7.11"
  }
 },
 "nbformat": 4,
 "nbformat_minor": 0
}
