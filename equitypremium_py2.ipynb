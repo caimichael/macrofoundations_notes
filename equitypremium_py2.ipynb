{
 "cells": [
  {
   "cell_type": "code",
   "execution_count": 1,
   "metadata": {
    "collapsed": true
   },
   "outputs": [],
   "source": [
    "# equity_premium_py2.ipynb\n",
    "# Calculations for pricing kernel chapter\n",
    "# NYU course ECON-UB 233, Macro foundations for asset pricing.\n",
    "# Written by: Michael Cai for Dave Backus"
   ]
  },
  {
   "cell_type": "markdown",
   "metadata": {},
   "source": [
    "**1. Two-state version**"
   ]
  },
  {
   "cell_type": "markdown",
   "metadata": {},
   "source": [
    "Equity premium calculations: two-state version"
   ]
  },
  {
   "cell_type": "code",
   "execution_count": 181,
   "metadata": {
    "collapsed": false
   },
   "outputs": [],
   "source": [
    "%matplotlib inline\n",
    "import matplotlib.pyplot as plt\n",
    "import numpy as np\n",
    "from math import exp, sqrt, log"
   ]
  },
  {
   "cell_type": "code",
   "execution_count": 2,
   "metadata": {
    "collapsed": false
   },
   "outputs": [
    {
     "name": "stdout",
     "output_type": "stream",
     "text": [
      "Inputs :\n",
      "mu_logg = 0.020000\n",
      "sigma_logg = 0.035000\n",
      "omega = 0.500000\n"
     ]
    }
   ],
   "source": [
    "#(a) compute returns for given alpha\n",
    "print \"Inputs :\"\n",
    "# state and consumption growth\n",
    "mu_logg = 0.0200\n",
    "sigma_logg = 0.0350\n",
    "omega = 0.5\n",
    "\n",
    "print \"mu_logg = %f\" %mu_logg \n",
    "print \"sigma_logg = %f\" %sigma_logg \n",
    "print \"omega = %f\" %omega\n",
    "\n",
    "z = np.array([-1,1])\n",
    "logg = mu_logg + sigma_logg*z\n",
    "\n",
    "g = np.array([exp(logg[0]),exp(logg[1])])\n",
    "p = np.array([omega, 1-omega])"
   ]
  },
  {
   "cell_type": "code",
   "execution_count": 3,
   "metadata": {
    "collapsed": false
   },
   "outputs": [
    {
     "name": "stdout",
     "output_type": "stream",
     "text": [
      "beta = 1\n",
      "alpha = 5\n",
      "lambda = 1 \n",
      "\n",
      "Asset prices and returns \n",
      "\n",
      "m = \n",
      "[ 1.07788415  0.75957212]\n",
      "d = \n",
      "\n",
      "[ 0.98511194  1.05654061]\n",
      "q1 = 0.918728\n",
      "r1 = 1.088461\n",
      "qe = 0.932178\n",
      "Ere = 1.095098\n",
      "eq_premium = 0.006637\n",
      "Std_m = 0.159156\n",
      "Std_m/q1 = 0.173235\n"
     ]
    }
   ],
   "source": [
    "# preferences and asset prices\n",
    "beta = 1\n",
    "alpha = 5\n",
    "lambda_ = 1\n",
    "\n",
    "print \"beta = %d\" %beta\n",
    "print \"alpha = %d\" %alpha\n",
    "print \"lambda = %d \\n\" %lambda_\n",
    "\n",
    "print \"Asset prices and returns \\n\"\n",
    "\n",
    "m = np.array([beta*g[0]**(-alpha),beta*g[1]**(-alpha)])\n",
    "d = np.array([g[0]**lambda_,g[1]**lambda_])\n",
    "\n",
    "print \"m = \" \n",
    "print m\n",
    "print \"d = \\n\"\n",
    "print d\n",
    "\n",
    "q1 = np.sum(p*m)\n",
    "\n",
    "r1 = 1/q1 \n",
    "\n",
    "qe = np.sum(p*m*d)\n",
    "\n",
    "Ere = np.sum(p*d)/qe\n",
    "\n",
    "eq_premium = Ere - r1\n",
    "\n",
    "Var_m = p[0]*m[0]**2 + p[1]*m[1]**2 - q1**2\n",
    "Std_m = sqrt(Var_m)\n",
    "temp = Std_m/q1 #change the name of this variable later. Is this a bound?\n",
    "\n",
    "print \"q1 = %f\" %q1\n",
    "print \"r1 = %f\" %r1\n",
    "print \"qe = %f\" %qe\n",
    "print \"Ere = %f\" %Ere\n",
    "print \"eq_premium = %f\" %eq_premium\n",
    "print \"Std_m = %f\" %Std_m\n",
    "print \"Std_m/q1 = %f\" %temp"
   ]
  },
  {
   "cell_type": "code",
   "execution_count": 46,
   "metadata": {
    "collapsed": false
   },
   "outputs": [],
   "source": [
    "#(b) compute for grid of alpha's for figs\n",
    "amin = 0 \n",
    "amax = 50\n",
    "astep = .25\n",
    "\n",
    "alphagrid = np.arange(amin,amax,astep)\n",
    "q1grid = []\n",
    "r1grid = []\n",
    "qegrid = []\n",
    "Eregrid = []\n",
    "\n",
    "for item in alphagrid:\n",
    "    q1grid.append(beta*(p[0]/g[0]**item + p[1]/g[1]**item))\n",
    "    qegrid.append(beta*(p[0]*d[0]/g[0]**item + p[1]*d[1]/g[1]**item))\n",
    "    \n",
    "for item in q1grid:\n",
    "    r1grid.append(1/item)\n",
    "    \n",
    "for item in qegrid:\n",
    "    Eregrid.append(sum(p*d)/item)\n",
    "\n",
    "q1grid = np.asarray(q1grid)\n",
    "r1grid = np.asarray(r1grid)\n",
    "qegrid = np.asarray(qegrid)\n",
    "Eregrid = np.asarray(Eregrid)\n",
    "epgrid = np.asarray(Eregrid) - np.asarray(r1grid)"
   ]
  },
  {
   "cell_type": "code",
   "execution_count": 60,
   "metadata": {
    "collapsed": false
   },
   "outputs": [
    {
     "data": {
      "image/png": "[encoded data removed]",
      "text/plain": [
       "<matplotlib.figure.Figure at 0x10c979790>"
      ]
     },
     "metadata": {},
     "output_type": "display_data"
    }
   ],
   "source": [
    "#Figure 1\n",
    "plt.plot(alphagrid,r1grid)\n",
    "plt.plot(alphagrid,np.ones(len(r1grid)))\n",
    "plt.xlabel('Risk Aversion')\n",
    "plt.ylabel('One-Period Riskfree Rate r')\n",
    "plt.show()"
   ]
  },
  {
   "cell_type": "code",
   "execution_count": 61,
   "metadata": {
    "collapsed": false
   },
   "outputs": [
    {
     "data": {
      "image/png": "[encoded data removed]",
      "text/plain": [
       "<matplotlib.figure.Figure at 0x10c9794d0>"
      ]
     },
     "metadata": {},
     "output_type": "display_data"
    }
   ],
   "source": [
    "#Figure 2\n",
    "plt.plot(alphagrid, epgrid, label = 'Figure 2')\n",
    "plt.xlabel('Risk Aversion')\n",
    "plt.ylabel('Equity Premium')\n",
    "plt.show()"
   ]
  },
  {
   "cell_type": "code",
   "execution_count": 75,
   "metadata": {
    "collapsed": false
   },
   "outputs": [],
   "source": [
    "#Equity Premium calculations: Lognormal version\n",
    "\n",
    "mu_g = 0.0200\n",
    "sigma_g = 0.0350\n",
    "\n",
    "beta = 0.99\n",
    "amin = 0\n",
    "amax = 50\n",
    "astep = 1\n",
    "alphagrid = np.arange(amin,amax,astep)\n",
    "lambda_ = 1;\n",
    "\n",
    "q1grid = []\n",
    "r1grid = []\n",
    "qegrid = []\n",
    "Eregrid = []\n",
    "\n",
    "epgrid_alt = []\n",
    "\n",
    "for item in alphagrid:\n",
    "    q1grid.append(beta*exp(-item*mu_g + item**2*sigma_g**2/2))\n",
    "    qegrid.append(beta*exp((1-item)*mu_g + (1-item)**2*sigma_g**2/2))\n",
    "    epgrid_alt.append((1/beta)*exp(item*mu_g - item**2*sigma_g**2/2)*\n",
    "            (exp(item*lambda_*sigma_g**2)-1))\n",
    "    \n",
    "for item in q1grid:\n",
    "    r1grid.append(1/item)\n",
    "    \n",
    "for item in qegrid:\n",
    "    Eregrid.append(sum(p*d)/item)\n",
    "\n",
    "q1grid = np.asarray(q1grid)\n",
    "r1grid = np.asarray(r1grid)\n",
    "qegrid = np.asarray(qegrid)\n",
    "Eregrid = np.asarray(Eregrid)\n",
    "\n",
    "epgrid = np.asarray(Eregrid) - np.asarray(r1grid)\n",
    "epgrid_alt = np.asarray(epgrid_alt)"
   ]
  },
  {
   "cell_type": "code",
   "execution_count": 77,
   "metadata": {
    "collapsed": false
   },
   "outputs": [
    {
     "data": {
      "image/png": "[encoded data removed]",
      "text/plain": [
       "<matplotlib.figure.Figure at 0x10cdf5d90>"
      ]
     },
     "metadata": {},
     "output_type": "display_data"
    }
   ],
   "source": [
    "#Figure 3\n",
    "plt.plot(alphagrid,r1grid)\n",
    "plt.xlabel('Risk Aversion')\n",
    "plt.ylabel('One-Period Riskfree Rate r')\n",
    "plt.show()"
   ]
  },
  {
   "cell_type": "code",
   "execution_count": 78,
   "metadata": {
    "collapsed": false
   },
   "outputs": [
    {
     "data": {
      "image/png": "[encoded data removed]",
      "text/plain": [
       "<matplotlib.figure.Figure at 0x10cdf54d0>"
      ]
     },
     "metadata": {},
     "output_type": "display_data"
    }
   ],
   "source": [
    "#Figure 4\n",
    "plt.plot(alphagrid, epgrid, label = 'Figure 2')\n",
    "plt.xlabel('Risk Aversion')\n",
    "plt.ylabel('Equity Premium')\n",
    "plt.show()"
   ]
  },
  {
   "cell_type": "code",
   "execution_count": 197,
   "metadata": {
    "collapsed": false
   },
   "outputs": [],
   "source": [
    "#Equity premium practice problem\n",
    "\n",
    "#state and consumption growth\n",
    "z = np.array([-1,1])\n",
    "p = np.array([0.5,0.5])\n",
    "\n",
    "mu_logg = 0.0200\n",
    "sigma_logg = 0.0350\n",
    "logg = mu_logg + np.multiply(sigma_logg,z)\n",
    "g = np.exp(logg)\n",
    "\n",
    "#preferences and asset prices\n",
    "beta = 0.99\n",
    "alpha = 5\n",
    "lambda_ = 1\n",
    "\n",
    "#Asset Prices and Returns\n",
    "m = []\n",
    "d = []\n",
    "\n",
    "for item in g:\n",
    "    m.append(beta*item**(-alpha))\n",
    "    d.append(item**lambda_)\n",
    "\n",
    "np.asarray(m)\n",
    "np.asarray(d)\n",
    "\n",
    "#returns in levels\n",
    "q1 = sum(p*m)\n",
    "r1 = 1/q1\n",
    "\n",
    "qe = sum(p*m*d)\n",
    "re = np.multiply(d,1/qe)\n",
    "Ere = sum(p*re)\n",
    "\n",
    "eq_premium = sum(p*(re-r1))\n",
    "Stdre = sqrt(sum(p*(re-Ere)**2))\n",
    "Sharpe_eq = eq_premium/Stdre\n",
    "\n",
    "E_m = q1\n",
    "\n",
    "#Refactor this code later... definitely not pretty.\n",
    "temp1 = [] \n",
    "temp2 = []\n",
    "for i,item in enumerate(p):\n",
    "    temp1.append(item*m[i]**2)\n",
    "    temp2.append(item*m[i])\n",
    "\n",
    "Var_m = sum(temp1) - sum(temp2)**2\n",
    "\n",
    "Std_m = sqrt(Var_m)\n",
    "Sharpe_max = Std_m/E_m\n",
    "\n",
    "#return in logs\n",
    "eq_premium_logs = sum(p[0]*(np.log(re)-np.log(r1)))\n",
    "#H = log(E_0.0152m) - sum(p.*log(m)) \n",
    "#^This is from the Matlab code, although it doesn't compile properly\n",
    "#in the Matlab code, so I am unsure as to what is the issue. \n",
    "#Check back later"
   ]
  }
 ],
 "metadata": {
  "kernelspec": {
   "display_name": "Python 2",
   "language": "python",
   "name": "python2"
  },
  "language_info": {
   "codemirror_mode": {
    "name": "ipython",
    "version": 2
   },
   "file_extension": ".py",
   "mimetype": "text/x-python",
   "name": "python",
   "nbconvert_exporter": "python",
   "pygments_lexer": "ipython2",
   "version": "2.7.11"
  }
 },
 "nbformat": 4,
 "nbformat_minor": 0
}
