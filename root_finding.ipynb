{
 "cells": [
  {
   "cell_type": "code",
   "execution_count": null,
   "metadata": {
    "collapsed": true
   },
   "outputs": [],
   "source": [
    "# root_finding.ipynb\n",
    "\n",
    "# some different methods of root finding\n",
    "# calculations for solving f(x) = 0 for x\n",
    "# example:  f(x) = x^2 - a\n",
    "\n",
    "# NYU course ECON-UB 233, Macro foundations for asset pricing.\n",
    "\n",
    "# Written by: Mike Saint-Antoine for Dave Backus"
   ]
  },
  {
   "cell_type": "code",
   "execution_count": 3,
   "metadata": {
    "collapsed": false
   },
   "outputs": [
    {
     "name": "stdout",
     "output_type": "stream",
     "text": [
      "1. Bisection\n",
      "approximate square root of 8: 2.828427124746188\n"
     ]
    }
   ],
   "source": [
    "print('1. Bisection')\n",
    "\n",
    "\n",
    "a = 8\n",
    "# this is the number we're trying to find the square root of\n",
    "\n",
    "\n",
    "# starting values\n",
    "maxit = 50\n",
    "x_low = 0\n",
    "x_high = a\n",
    "\n",
    "\n",
    "\n",
    "for i in range(maxit):\n",
    "    mid = (x_low + x_high)/2\n",
    "    if (x_low**2-a>0 and mid**2-a>0) or (x_low**2-a<0 and mid**2-a<0):\n",
    "        # this part is too complicated for me to explain in a comment, so just trust me on this one\n",
    "        x_low = mid\n",
    "    else:\n",
    "        x_high = mid\n",
    "    # as we run this a buncha times, x_low and x_high move closer to the square root\n",
    "\n",
    "\n",
    "print(\"approximate square root of \"+str(a)+\": \" + str((x_low + x_high)/2))\n",
    "# square root approximation, take average of 2 points we end up with\n"
   ]
  },
  {
   "cell_type": "code",
   "execution_count": 4,
   "metadata": {
    "collapsed": false
   },
   "outputs": [
    {
     "name": "stdout",
     "output_type": "stream",
     "text": [
      "2. Newton's method\n",
      "approximate square root of 8: 2.8284271247461903\n"
     ]
    }
   ],
   "source": [
    "print(\"2. Newton's method\")\n",
    "\n",
    "# starting values\n",
    "a = 8\n",
    "maxit = 50\n",
    "\n",
    "x_now = 10\n",
    "# just a guess to start with\n",
    "\n",
    "f_now = x_now**2 - a\n",
    "# the function evaluated at our guess\n",
    "\n",
    "for i in range(maxit):\n",
    "    fp_now = 2 * x_now\n",
    "    # the derivative evaluated at our guess\n",
    "    x_now = x_now - f_now/fp_now;\n",
    "    # the new x_now is the old x_now minus the ratio of the function(x) to the derivative(x)\n",
    "    f_now = x_now**2 - a;\n",
    "    # as we run this a buncha times, x_now approaches the square root\n",
    "\n",
    "\n",
    "\n",
    "print(\"approximate square root of \"+str(a)+\": \" + str(x_now))\n"
   ]
  },
  {
   "cell_type": "code",
   "execution_count": 5,
   "metadata": {
    "collapsed": false
   },
   "outputs": [
    {
     "name": "stdout",
     "output_type": "stream",
     "text": [
      "3. Secant method\n",
      "answer: 2.8284271247461903\n"
     ]
    }
   ],
   "source": [
    "print(\"3. Secant method\")\n",
    "\n",
    "\n",
    "# starting values\n",
    "a = 8\n",
    "maxit = 50\n",
    "x_before = 8\n",
    "x_now = 10\n",
    "f_before = x_before**2 - a\n",
    "f_now = x_now**2 - a\n",
    "\n",
    "for i in range(maxit):\n",
    "    fp = (f_now-f_before)/(x_now-x_before)\n",
    "    x_now = x_now - f_now/fp;\n",
    "    f_now = x_now**2 - a;\n",
    "    # as we keep running this, x_now approaches the square root\n",
    "\n",
    "\n",
    "\n",
    "print(\"approximate square root of \"+str(a)+\": \" + str(x_now))\n",
    "\n",
    "\n"
   ]
  },
  {
   "cell_type": "code",
   "execution_count": null,
   "metadata": {
    "collapsed": true
   },
   "outputs": [],
   "source": []
  }
 ],
 "metadata": {
  "kernelspec": {
   "display_name": "Python 3",
   "language": "python",
   "name": "python3"
  },
  "language_info": {
   "codemirror_mode": {
    "name": "ipython",
    "version": 3
   },
   "file_extension": ".py",
   "mimetype": "text/x-python",
   "name": "python",
   "nbconvert_exporter": "python",
   "pygments_lexer": "ipython3",
   "version": "3.5.1"
  }
 },
 "nbformat": 4,
 "nbformat_minor": 0
}
