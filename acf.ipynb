{
 "cells": [
  {
   "cell_type": "code",
   "execution_count": 1,
   "metadata": {
    "collapsed": true
   },
   "outputs": [],
   "source": [
    "#acf.ipynb\n",
    "\n",
    "#  function [rho]=acf(x,nrho)\n",
    "#  Sample autocorrelation function for vector x of data\n",
    "#  gamma is the sample autocovariance, rho is the sample autocorrelation \n",
    "#  gamma(k) and rho(k) start at k=0 \n",
    "#  NB: I don't divide sums by T (=nobs):  gamma below is really the \n",
    "#  autocovariance times T.   \n",
    "\n",
    "# NYU course ECON-UB 233, Macro foundations for asset pricing.\n",
    "\n",
    "# Written by: Michael Cai for Dave Backus"
   ]
  },
  {
   "cell_type": "code",
   "execution_count": 3,
   "metadata": {
    "collapsed": false
   },
   "outputs": [],
   "source": [
    "import numpy as np"
   ]
  },
  {
   "cell_type": "code",
   "execution_count": 11,
   "metadata": {
    "collapsed": false
   },
   "outputs": [],
   "source": [
    "def acf(x,nrho):\n",
    "    nobs = len(x)\n",
    "    xbar = np.mean(x)\n",
    "    xdev = x - xbar\n",
    "    gamma = np.zeros((nrho+1,1))\n",
    "\n",
    "    for k in np.arange(0,nrho+1):\n",
    "        xlags = np.zeros((nobs,1))\n",
    "        xlags[k+1:nobs] = xdev[1:nobs-k]\n",
    "        gamma[k+1] = sum(xlags*xdev)"
   ]
  },
  {
   "cell_type": "code",
   "execution_count": null,
   "metadata": {
    "collapsed": true
   },
   "outputs": [],
   "source": []
  }
 ],
 "metadata": {
  "kernelspec": {
   "display_name": "Python 3",
   "language": "python",
   "name": "python3"
  },
  "language_info": {
   "codemirror_mode": {
    "name": "ipython",
    "version": 3
   },
   "file_extension": ".py",
   "mimetype": "text/x-python",
   "name": "python",
   "nbconvert_exporter": "python",
   "pygments_lexer": "ipython3",
   "version": "3.5.1"
  }
 },
 "nbformat": 4,
 "nbformat_minor": 0
}
