{
 "cells": [
  {
   "cell_type": "code",
   "execution_count": 187,
   "metadata": {
    "collapsed": true
   },
   "outputs": [],
   "source": [
    "#BSM Calculations\n",
    "%matplotlib inline\n",
    "import matplotlib.pyplot as plt\n",
    "import numpy as np\n",
    "from math import log, sqrt, exp, pi\n",
    "from scipy.stats import norm \n",
    "import timeit"
   ]
  },
  {
   "cell_type": "code",
   "execution_count": 185,
   "metadata": {
    "collapsed": true
   },
   "outputs": [],
   "source": [
    "#Important functions to conduct element-wise operations\n",
    "\n",
    "#defining an elementwise log function\n",
    "def elog(array):\n",
    "    temp_array = []\n",
    "    for item in array:\n",
    "        temp_array.append(log(item))\n",
    "    return np.asarray(temp_array)\n",
    "\n",
    "#defining an elementwise exponentiation function\n",
    "def eexp(array):\n",
    "    temp_array = []\n",
    "    for item in array:\n",
    "        temp_array.append(exp(item))\n",
    "    return np.asarray(temp_array)"
   ]
  },
  {
   "cell_type": "code",
   "execution_count": 183,
   "metadata": {
    "collapsed": false
   },
   "outputs": [
    {
     "name": "stdout",
     "output_type": "stream",
     "text": [
      "[ 11.9998815    7.12781638]\n"
     ]
    }
   ],
   "source": [
    "#inputs\n",
    "tau = 1\n",
    "q_tau = 0.98\n",
    "s = 100\n",
    "k = np.array([95,105])\n",
    "sigma = np.array([0.2104])\n",
    "\n",
    "#define price as function of sigma in two steps\n",
    "#this is set up so that either k and sigma have the same dimensions\n",
    "#or one (or both) is a scalar\n",
    "\n",
    "d = lambda k: (elog(s/(q_tau*k))+tau*sigma**2/2)/(sqrt(tau)*sigma)\n",
    "call = lambda sigma: s*norm.cdf(d(k)) - q_tau*k*norm.cdf(d(k)-sqrt(tau)*sigma)\n",
    "\n",
    "q_call = call(sigma)\n",
    "print(q_call)"
   ]
  },
  {
   "cell_type": "code",
   "execution_count": 87,
   "metadata": {
    "collapsed": false
   },
   "outputs": [
    {
     "data": {
      "image/png": "[encoded data removed]",
      "text/plain": [
       "<matplotlib.figure.Figure at 0x10b458668>"
      ]
     },
     "metadata": {},
     "output_type": "display_data"
    }
   ],
   "source": [
    "#Call price v. volatility\n",
    "yield_ = 0.01\n",
    "tau = 0.25\n",
    "q_tau = exp(-tau * yield_)\n",
    "s = 1388\n",
    "k = q_tau*s\n",
    "\n",
    "#define price as a function of sigma\n",
    "d2 = lambda sigma: (log(s/(q_tau*k))+tau*sigma**2)/(sqrt(tau)*sigma)\n",
    "call2 = lambda sigma: s*norm.cdf(d2(sigma)) - q_tau*k*norm.cdf(d2(sigma)-sqrt(tau)*sigma)\n",
    "\n",
    "sigma = np.arange(0.0001,0.50,0.01)\n",
    "q_call = call2(sigma)\n",
    "\n",
    "plt.plot(sigma, q_call)\n",
    "plt.xlabel('Volatility')\n",
    "plt.ylabel('Call Price')\n",
    "plt.show()"
   ]
  },
  {
   "cell_type": "code",
   "execution_count": 193,
   "metadata": {
    "collapsed": false
   },
   "outputs": [
    {
     "data": {
      "text/plain": [
       "3"
      ]
     },
     "execution_count": 193,
     "metadata": {},
     "output_type": "execute_result"
    }
   ],
   "source": [
    "#Implied Volatility\n",
    "\n",
    "#inputs\n",
    "yield_ = 0.005\n",
    "tau = 0.125\n",
    "q_tau = exp(-tau * yield_)\n",
    "\n",
    "#http://www.cmegroup.com/trading/equity-index/us-index/e-mini-sandp500.html\n",
    "#data for 2013-11-05\n",
    "s = 1757\n",
    "\n",
    "k = np.array([1735,1740,1745,1750,1755,1760,1765,1770,1775,1780])\n",
    "call_last = np.array([42.75,39.25,36.25,33.00,30.00,27.25,24.50,22.00,19.50,17.50])\n",
    "data_matrix = np.column_stack((data_row1, data_row2))\n",
    "\n",
    "#BSM formula\n",
    "#define f = call price as a function of sigma, two steps for clarity (or not?)\n",
    "d = lambda sigma,k : (elog(s/(q_tau*k))+tau*sigma**2/2)/(sqrt(tau)*sigma)\n",
    "f = lambda sigma,k : s*norm.cdf(d(sigma,k)) - q_tau*k*norm.cdf(d(sigma,k)\\\n",
    "                    -sqrt(tau)*sigma)-call_last;\n",
    "fp = lambda d: s*sqrt(tau)*eexp(-d**2/2)/sqrt(2*pi)\n",
    "\n",
    "#convergence paramaters\n",
    "tol =1e-8\n",
    "maxit = 50\n",
    "\n",
    "#starting values\n",
    "#NB: we do this for log(sigma), which makes sure sigma is positive\n",
    "x_now = 0.12 + np.zeros(k.shape)\n",
    "f_now = f(x_now, k)\n",
    "\n",
    "#Compute implied volatility\n",
    "t0 = timeit.Timer() \n",
    "\n",
    "for it in np.arange(1,maxit):\n",
    "    fp_now = fp(d(x_now,k))\n",
    "    x_new = x_now - f_now/fp_now\n",
    "    f_new = f(x_new,k)\n",
    "    diff_x = max(abs(x_new - x_now))\n",
    "    diff_f = max(abs(f_new))\n",
    "    \n",
    "    if max(diff_x,diff_f) < tol:\n",
    "        break\n",
    "    \n",
    "    else:\n",
    "        x_before = x_now\n",
    "        x_now = x_new\n",
    "        f_before = f_now\n",
    "        f_now = f_new\n",
    "        \n",
    "#display results\n",
    "it\n"
   ]
  },
  {
   "cell_type": "code",
   "execution_count": null,
   "metadata": {
    "collapsed": true
   },
   "outputs": [],
   "source": []
  }
 ],
 "metadata": {
  "kernelspec": {
   "display_name": "Python 3",
   "language": "python",
   "name": "python3"
  },
  "language_info": {
   "codemirror_mode": {
    "name": "ipython",
    "version": 3
   },
   "file_extension": ".py",
   "mimetype": "text/x-python",
   "name": "python",
   "nbconvert_exporter": "python",
   "pygments_lexer": "ipython3",
   "version": "3.5.1"
  }
 },
 "nbformat": 4,
 "nbformat_minor": 0
}
