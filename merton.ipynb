{
 "cells": [
  {
   "cell_type": "code",
   "execution_count": 185,
   "metadata": {
    "collapsed": true
   },
   "outputs": [],
   "source": [
    "#BSM Calculations\n",
    "%matplotlib inline\n",
    "import matplotlib.pyplot as plt\n",
    "import numpy as np\n",
    "from scipy.stats import norm\n",
    "from math import log, sqrt, exp, pi, factorial as fac"
   ]
  },
  {
   "cell_type": "code",
   "execution_count": 178,
   "metadata": {
    "collapsed": true
   },
   "outputs": [],
   "source": [
    "#Important functions to conduct element-wise operations\n",
    "\n",
    "#defining an elementwise log function\n",
    "def elog(array):\n",
    "    temp_array = []\n",
    "    for item in array:\n",
    "        temp_array.append(log(item))\n",
    "    return np.asarray(temp_array)\n",
    "\n",
    "#defining an elementwise exponentiation function\n",
    "def eexp(array):\n",
    "    temp_array = []\n",
    "    for item in array:\n",
    "        temp_array.append(exp(item))\n",
    "    return np.asarray(temp_array)\n",
    "\n",
    "#defining an elementwise factorial function\n",
    "def efac(array):\n",
    "    temp_array = []\n",
    "    for item in array:\n",
    "        temp_array.append(fac(item))\n",
    "    return np.asarray(temp_array)"
   ]
  },
  {
   "cell_type": "code",
   "execution_count": 233,
   "metadata": {
    "collapsed": false
   },
   "outputs": [],
   "source": [
    "#Merton Option Model\n",
    "\n",
    "#Parameter values\"\n",
    "tau = 1/12        #maturity of option\n",
    "logr1 = tau*0.020\n",
    "q1 = exp(-logr1)\n",
    "ep = 0.0400\n",
    "sigmare = 0.1800\n",
    "\n",
    "#True distribution (sigma is all we need here)\n",
    "omega = 1.5120\n",
    "theta = -0.0259\n",
    "delta = 0.0407\n",
    "mu = ep - omega*theta\n",
    "sigma = sqrt(sigmare**2-omega*(theta**2+delta**2))\n",
    "\n",
    "#Risk-neutral distribution\n",
    "omegas = 1.5120\n",
    "deltas = 0.0981\n",
    "thetas = log(1-0.0482) - deltas**2/2\n",
    "\n",
    "#set mu* to satisfy arb condition\n",
    "mus = -sigma**2/2 - omegas*(exp(thetas+deltas**2/2)-1)\n",
    "\n",
    "#2. Option Prices (Merton model)\n",
    "\n",
    "#Strike grid\n",
    "ngrid = 10\n",
    "bscale = 0.08 #bscale = 0.3\n",
    "bgrid = bscale*np.arange(-ngrid,ngrid+1,1)/ngrid + 1\n",
    "logbgrid = elog(bgrid)\n",
    "\n",
    "#probs\n",
    "nprob = 10\n",
    "jgrid = np.arange(0,nprob+1)\n",
    "probs = exp(-tau*omegas)*(tau*omegas)**jgrid/efac(jgrid)\n",
    "checksumprobs = sum(probs)\n",
    "\n",
    "#vectorize instead of looping\n",
    "logbarray = np.transpose(logbgrid*np.ones((nprob+1,len(logbgrid))))\n",
    "\n",
    "#base parameters\n",
    "kappa1j = tau*mus + jgrid*thetas\n",
    "kappa1jarray = kappa1j*np.ones((2*ngrid+1,1))\n",
    "kappa2j = tau*sigma**2+jgrid*delta**2 #does not equal the code output from Matlab for some reason. Syntax is correct though\n",
    "kappa2jarray = kappa2j*np.ones((2*ngrid+1,1))\n",
    "darray = (logbarray - logr1 - kappa1jarray)/np.sqrt(kappa2jarray)\n",
    "putarray = q1*np.exp(logbarray)*norm.cdf(darray) - np.exp(kappa1jarray+kappa2jarray/2)*norm.cdf(darray-np.sqrt(kappa2jarray))\n",
    "put_ase = putarray*probs"
   ]
  },
  {
   "cell_type": "code",
   "execution_count": 232,
   "metadata": {
    "collapsed": false
   },
   "outputs": [
    {
     "data": {
      "text/plain": [
       "array([ 0.00240676,  0.00406325,  0.00571974,  0.00737623,  0.00903272,\n",
       "        0.01068921,  0.0123457 ,  0.01400219,  0.01565868,  0.01731517,\n",
       "        0.01897166])"
      ]
     },
     "execution_count": 232,
     "metadata": {},
     "output_type": "execute_result"
    }
   ],
   "source": [
    "kappa2j"
   ]
  },
  {
   "cell_type": "code",
   "execution_count": null,
   "metadata": {
    "collapsed": true
   },
   "outputs": [],
   "source": []
  }
 ],
 "metadata": {
  "kernelspec": {
   "display_name": "Python 3",
   "language": "python",
   "name": "python3"
  },
  "language_info": {
   "codemirror_mode": {
    "name": "ipython",
    "version": 3
   },
   "file_extension": ".py",
   "mimetype": "text/x-python",
   "name": "python",
   "nbconvert_exporter": "python",
   "pygments_lexer": "ipython3",
   "version": "3.5.1"
  }
 },
 "nbformat": 4,
 "nbformat_minor": 0
}
