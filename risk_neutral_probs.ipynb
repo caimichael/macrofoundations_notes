{
 "cells": [
  {
   "cell_type": "code",
   "execution_count": 1,
   "metadata": {
    "collapsed": true
   },
   "outputs": [],
   "source": [
    "# notes_risk_neutral_probs.ipynb\n",
    "\n",
    "# Pricing kernel and risk-neutral probs with power utility\n",
    "# Take arbitrary distribution over a state space and compute\n",
    "# pricing kernel and risk neutral probabilities for power utility.\n",
    "\n",
    "# NYU course ECON-UB 233, Macro foundations for asset pricing.\n",
    "\n",
    "# Written by: Mike Saint-Antoine for Dave Backus"
   ]
  },
  {
   "cell_type": "code",
   "execution_count": 26,
   "metadata": {
    "collapsed": false
   },
   "outputs": [
    {
     "name": "stdout",
     "output_type": "stream",
     "text": [
      "Basic Inputs\n",
      "\n",
      "alpha: 10\n",
      "beta: 0.99\n",
      "lambda_: 1\n",
      "\n",
      "zmax: 4\n",
      "dz: 0.1\n"
     ]
    }
   ],
   "source": [
    "# Basic Inputs\n",
    "\n",
    "import matplotlib.pyplot as plt\n",
    "import numpy as np\n",
    "import math\n",
    "%matplotlib inline\n",
    "\n",
    "alpha = 10\n",
    "beta = 0.99\n",
    "lambda_ = 1\n",
    "# can't use lambda for a variable in python so i made it lambda_\n",
    "\n",
    "# arbitrary state grid\n",
    "zmax = 4\n",
    "dz = 0.1\n",
    "\n",
    "print(\"Basic Inputs\")\n",
    "print()\n",
    "print(\"alpha: \" + str(alpha))\n",
    "print(\"beta: \" + str(beta))\n",
    "print(\"lambda_: \" + str(lambda_))\n",
    "print()\n",
    "print(\"zmax: \" + str(zmax))\n",
    "print(\"dz: \" + str(dz))"
   ]
  },
  {
   "cell_type": "code",
   "execution_count": 27,
   "metadata": {
    "collapsed": false
   },
   "outputs": [
    {
     "name": "stdout",
     "output_type": "stream",
     "text": [
      "z:\n",
      "[-4.0, -3.9, -3.8, -3.7, -3.6, -3.5, -3.4, -3.3, -3.2, -3.1, -3.0, -2.9, -2.8, -2.7, -2.6, -2.5, -2.4, -2.3, -2.2, -2.1, -2.0, -1.9, -1.8, -1.7, -1.6, -1.5, -1.4, -1.3, -1.2, -1.1, -1.0, -0.9, -0.8, -0.7, -0.6, -0.5, -0.4, -0.3, -0.2, -0.1, 0.0, 0.1, 0.2, 0.3, 0.4, 0.5, 0.6, 0.7, 0.8, 0.9, 1.0, 1.1, 1.2, 1.3, 1.4, 1.5, 1.6, 1.7, 1.8, 1.9, 2.0, 2.1, 2.2, 2.3, 2.4, 2.5, 2.6, 2.7, 2.8, 2.9, 3.0, 3.1, 3.2, 3.3, 3.4, 3.5, 3.6, 3.7, 3.8, 3.9, 4.0]\n"
     ]
    }
   ],
   "source": [
    "\n",
    "# generating z array\n",
    "z = []\n",
    "# had to multiply everything by 10 and then divide by 10 when appending to get rid of the .1 + .2 = .30000004 problem that computers have\n",
    "i = -40\n",
    "while i <=40:\n",
    "    z.append(i/10)\n",
    "    i = i + dz * 10\n",
    "\n",
    "print(\"z:\")\n",
    "print(z)"
   ]
  },
  {
   "cell_type": "code",
   "execution_count": 28,
   "metadata": {
    "collapsed": false
   },
   "outputs": [
    {
     "name": "stdout",
     "output_type": "stream",
     "text": [
      "gamma1: -0.5\n",
      "gamma2: 0.0\n",
      "\n",
      "checkprobssum2one: 0.9999491502665815\n",
      "\n",
      "p:\n",
      "[7.137975004920036e-05, 9.87020235462995e-05, 0.00013496419512254207, 0.00018249842406040356, 0.00024403889904233239, 0.0003227271988641592, 0.00042209760272486694, 0.0005460390553969437, 0.0006987323125944558, 0.0008845634627745371, 0.001108018445427075, 0.001373567096947159, 0.0016855492001300253, 0.0020480783586429574, 0.002464981493924664, 0.0029397915495588257, 0.0034758078456619845, 0.004076231947676456, 0.004744376800264881, 0.00548393368542575, 0.006299266409222916, 0.00719568678725464, 0.00817965233311323, 0.009258818733907437, 0.010441878871249742, 0.01173812898795131, 0.013156722329683911, 0.014705601045195176, 0.016390136474653604, 0.01821155261770837, 0.02016525244097289, 0.02223920561796555, 0.02441258288603276, 0.0266548307200009, 0.028925366378177577, 0.0311740359986758, 0.03334241882190283, 0.03536598353941217, 0.037177015881946905, 0.03870814961599339, 0.039896256754163625, 0.04068639707094289, 0.0410354999987268, 0.040915458443682294, 0.040315354716910494, 0.03924261002186248, 0.037722943248959695, 0.035799131720692406, 0.033528673963728536, 0.03098055057220029, 0.028231353417362052, 0.025361098446492696, 0.022449049484241194, 0.019569860262436588, 0.01679029359524153, 0.014166707399251582, 0.011743416180980588, 0.009551953264211455, 0.007611182286796481, 0.005928143510952774, 0.004499476006587798, 0.0033132328442325616, 0.0023509025620455084, 0.0015894636997570847, 0.001003325976067377, 0.0005660468201013887, 0.0002517504979100135, 3.6214589982364804e-05, -0.00010237837971985731, -0.00018300007297620248, -0.00022160368908541496, -0.00023116642646944064, -0.00022189042501862162, -0.00020150774826108525, -0.0001756412367897558, -0.00014818178426720548, -0.00012165228969311858, -9.753804973786781e-05, -7.65718407285954e-05, -5.896890884945474e-05, -4.461234378075022e-05]\n"
     ]
    }
   ],
   "source": [
    "# nz = length(z);\n",
    "# skewness and (excess) kurtosis\n",
    "gamma1 = -0.5\n",
    "gamma2 = 0.0\n",
    "\n",
    "# Gram-Charlier distribution (normal if gamma1 = gamma2 = 0)\n",
    "\n",
    "#p = exp(-z.^2/2).*(1 + gamma1*(z.^3-3*z)/6 + gamma2*(z.^4-6*z.^2+3)/24);\n",
    "\n",
    "# generating p array from z array\n",
    "p = []\n",
    "for item in range(len(z)):\n",
    "    p.append(math.exp(-z[item]**2/2)*(1 + gamma1*(z[item]**3-3*z[item])/6 + gamma2*(z[item]**4-6*z[item]**2+3)/24))\n",
    "\n",
    "\n",
    "checkprobssum2one = sum(p)*dz/math.sqrt(2*math.pi)\n",
    "\n",
    "\n",
    "# changing p array\n",
    "probSum = sum(p)\n",
    "for x in range(len(p)):\n",
    "    p[x] = p[x]/probSum\n",
    "    \n",
    "    \n",
    "print(\"gamma1: \" + str(gamma1))\n",
    "print(\"gamma2: \" + str(gamma2))\n",
    "print()\n",
    "print(\"checkprobssum2one: \" + str(checkprobssum2one))\n",
    "print()\n",
    "print(\"p:\")\n",
    "print(p)"
   ]
  },
  {
   "cell_type": "code",
   "execution_count": 29,
   "metadata": {
    "collapsed": true
   },
   "outputs": [],
   "source": [
    "# Bernoulli (an alternative, comment out if not needed)\n",
    "# have to change variable names since p is already used\n",
    "# z1 = [-1, 1]\n",
    "# p1 = [0.5, 0.5]"
   ]
  },
  {
   "cell_type": "code",
   "execution_count": 30,
   "metadata": {
    "collapsed": false
   },
   "outputs": [
    {
     "name": "stdout",
     "output_type": "stream",
     "text": [
      "mug: 0.02\n",
      "sigmag: 0.035\n",
      "\n",
      "logg:\n",
      "[-0.12000000000000001, -0.1165, -0.113, -0.10950000000000003, -0.10600000000000002, -0.10250000000000001, -0.099, -0.0955, -0.09200000000000001, -0.08850000000000001, -0.085, -0.0815, -0.078, -0.07450000000000001, -0.07100000000000001, -0.0675, -0.064, -0.0605, -0.05700000000000001, -0.053500000000000006, -0.05, -0.0465, -0.04300000000000001, -0.03950000000000001, -0.036000000000000004, -0.0325, -0.029, -0.025500000000000005, -0.022000000000000002, -0.018500000000000006, -0.015000000000000003, -0.011500000000000007, -0.008000000000000004, -0.0045000000000000005, -0.0010000000000000009, 0.0024999999999999988, 0.005999999999999998, 0.0095, 0.013, 0.0165, 0.02, 0.0235, 0.027000000000000003, 0.0305, 0.034, 0.037500000000000006, 0.041, 0.0445, 0.048, 0.051500000000000004, 0.05500000000000001, 0.05850000000000001, 0.062, 0.0655, 0.069, 0.07250000000000001, 0.07600000000000001, 0.0795, 0.08300000000000002, 0.08650000000000001, 0.09000000000000001, 0.09350000000000001, 0.09700000000000002, 0.1005, 0.10400000000000001, 0.10750000000000001, 0.11100000000000002, 0.11450000000000002, 0.11800000000000001, 0.12150000000000001, 0.125, 0.1285, 0.132, 0.1355, 0.139, 0.14250000000000002, 0.14600000000000002, 0.14950000000000002, 0.153, 0.1565, 0.16]\n",
      "\n",
      "g:\n",
      "[0.8869204367171575, 0.8900300969766776, 0.8931506601160155, 0.896282164362109, 0.899424648075924, 0.9025781497529256, 0.9057427080235485, 0.9089183616536712, 0.9121051495450904, 0.9153031107359976, 0.9185122844014574, 0.9217327098538872, 0.9249644265435393, 0.9282074740589834, 0.9314618921275921, 0.9347277206160275, 0.9380049995307295, 0.9412937690184057, 0.9445940693665233, 0.9479059410038031, 0.951229424500714, 0.9545645605699703, 0.9579113900670306, 0.9612699539905982, 0.9646402934831231, 0.968022449831306, 0.9714164644666048, 0.9748223789657411, 0.97824023505121, 0.9816700745917915, 0.9851119396030626, 0.988565872247913, 0.9920319148370607, 0.9955101098295706, 0.999000499833375, 1.0025031276057952, 1.006018036054065, 1.0095452682358568, 1.0130848673598092, 1.0166368767860556, 1.0202013400267558, 1.0237783007466292, 1.0273678027634894, 1.030969890048781, 1.034584606728118, 1.038211997081825, 1.0418521055454795, 1.0455049767104556, 1.0491706553244706, 1.0528491862921334, 1.0565406146754943, 1.0602449856945972, 1.0639623447280337, 1.0676927373134981, 1.0714362091483463, 1.075192806090155, 1.078962574157284, 1.0827455595294389, 1.0865418085482381, 1.0903513677177794, 1.0941742837052104, 1.0980106033412995, 1.1018603736210106, 1.1057236417040774, 1.1096004549155825, 1.1134908607465361, 1.1173949068544582, 1.1213126410639627, 1.1252441113673424, 1.1291893659251577, 1.1331484530668263, 1.1371214212912153, 1.141108319267235, 1.1451091958344357, 1.1491241000036052, 1.1531530809573696, 1.1571961880507962, 1.1612534708119975, 1.1653249789427378, 1.169410762319043, 1.1735108709918103]\n"
     ]
    }
   ],
   "source": [
    "# logg is a linear function of z\n",
    "mug = 0.02\n",
    "sigmag = 0.035\n",
    "\n",
    "#logg = mug + sigmag*z;\n",
    "# generating logg array\n",
    "logg = []\n",
    "for x in range(len(z)):\n",
    "    logg.append(mug + sigmag * z[x])\n",
    "\n",
    "\n",
    "# generating g array\n",
    "g = []\n",
    "for x in range(len(logg)):\n",
    "    g.append(math.exp(logg[x]))\n",
    "    \n",
    "print(\"mug: \" + str(mug))\n",
    "print(\"sigmag: \" + str(sigmag))\n",
    "print()\n",
    "print(\"logg:\")\n",
    "print(logg)\n",
    "print()\n",
    "print(\"g:\")\n",
    "print(g)"
   ]
  },
  {
   "cell_type": "code",
   "execution_count": 31,
   "metadata": {
    "collapsed": false
   },
   "outputs": [
    {
     "name": "stdout",
     "output_type": "stream",
     "text": [
      "Properties of log g (check to see if we replicate inputs)\n",
      "\n",
      "mean, std, gamma1, gamma2\n",
      "\n",
      "[0.020042236463732245, 0.034984544443157704, -0.481580723649369, -0.00953414001356645]\n"
     ]
    }
   ],
   "source": [
    "print('Properties of log g (check to see if we replicate inputs)')\n",
    "print()\n",
    "print('mean, std, gamma1, gamma2')\n",
    "print()\n",
    "\n",
    "# generating kappa1 array\n",
    "kappa1 = []\n",
    "for x in range(len(p)):\n",
    "    kappa1.append(p[x]*logg[x])\n",
    "\n",
    "kappa1 = sum(kappa1)\n",
    "\n",
    "\n",
    "# generating dev array\n",
    "dev = []\n",
    "for x in range(len(logg)):\n",
    "    dev.append(logg[x]-kappa1)\n",
    "\n",
    "# generating kappa2 array\n",
    "kappa2 = []\n",
    "for x in range(len(p)):\n",
    "    kappa2.append(p[x]*dev[x]**2)\n",
    "\n",
    "kappa2 = sum(kappa2)\n",
    "\n",
    "# generating kappa3 array\n",
    "kappa3 = []\n",
    "for x in range(len(p)):\n",
    "    kappa3.append(p[x]*dev[x]**3)\n",
    "kappa3 = sum(kappa3)\n",
    "\n",
    "\n",
    "# generating kappa4 array\n",
    "kappa4 = []\n",
    "for x in range(len(p)):\n",
    "    kappa4.append(p[x]*dev[x]**4)\n",
    "kappa4 = sum(kappa4)\n",
    "\n",
    "\n",
    "\n",
    "\n",
    "\n",
    "\n",
    "\n",
    "print([kappa1, math.sqrt(kappa2), kappa3/kappa2**1.5, kappa4/kappa2**2-3])"
   ]
  },
  {
   "cell_type": "code",
   "execution_count": 32,
   "metadata": {
    "collapsed": false
   },
   "outputs": [
    {
     "name": "stdout",
     "output_type": "stream",
     "text": [
      "m:\n",
      "[3.2869157535091835, 3.173863654370785, 3.064699935123464, 2.9592908565594302, 2.8575072793752794, 2.759224505960191, 2.6643221276257694, 2.5726838770903258, 2.484197486036936, 2.3987545475706953, 2.3162503834067305, 2.2365839156262046, 2.159657542843219, 2.085377020630919, 2.013651346060283, 1.9443926462101497, 1.877516070511902, 1.812939686796915, 1.7505843809193977, 1.6903737598316702, 1.6322340579931267, 1.5760940469982307, 1.5218849483127992, 1.4695403490117047, 1.418996120414736, 1.370190339520944, 1.3230632131452178, 1.277557004664161, 1.233615963281507, 1.1911862557264188, 1.1502159003010004, 1.1106547031962188, 1.0724541969982087, 1.03556758130963, 0.9999496654133261, 0.9655568129080484, 0.9323468882484057, 0.9002792051235491, 0.8693144766113554, 0.8394147670470359, 0.8105434455472024, 0.7826651411324483, 0.7557456993934847, 0.7297521406477109, 0.7046526195349835, 0.6804163860030623, 0.6570137476349567, 0.6344160332719952, 0.6125955578880787, 0.5915255886720545, 0.5711803122766816, 0.5515348031940525, 0.5325649932187274, 0.5142476419611772, 0.4965603083753948, 0.4794813232658088, 0.46298976273981, 0.4470654225733664, 0.43168879345831995, 0.4168410371010479, 0.4025039631431929, 0.38866000687620345, 0.3752922077223647, 0.36238418845597536, 0.3499201351391926, 0.33788477774798364, 0.3262633714644374, 0.31504167861251486, 0.3042059512151198, 0.29374291415110465, 0.28363974889158816, 0.27388407779565377, 0.26446394894619185, 0.25536782150730736, 0.24658455158535125, 0.23810337857625874, 0.22991391198246136, 0.22200611868322997, 0.21437031064284717, 0.20699713304154996, 0.1998775528147088]\n"
     ]
    }
   ],
   "source": [
    "# pricing kernel\n",
    "# generating m array\n",
    "m = []\n",
    "for x in range(len(g)):\n",
    "    m.append(beta*g[x]**(-alpha))\n",
    "\n",
    "print(\"m:\")\n",
    "print(m)"
   ]
  },
  {
   "cell_type": "code",
   "execution_count": 33,
   "metadata": {
    "collapsed": false
   },
   "outputs": [
    {
     "name": "stdout",
     "output_type": "stream",
     "text": [
      "logm:\n",
      "[1.189949664146499, 1.154949664146498, 1.1199496641464985, 1.0849496641464986, 1.0499496641464987, 1.0149496641464981, 0.9799496641464984, 0.9449496641464983, 0.9099496641464991, 0.8749496641464989, 0.8399496641464983, 0.8049496641464986, 0.7699496641464985, 0.7349496641464982, 0.6999496641464985, 0.664949664146499, 0.6299496641464987, 0.5949496641464983, 0.5599496641464985, 0.524949664146499, 0.4899496641464985, 0.4549496641464989, 0.419949664146499, 0.3849496641464984, 0.34994966414649803, 0.31494966414649866, 0.27994966414649886, 0.24494966414649844, 0.2099496641464985, 0.17494966414649887, 0.13994966414649865, 0.10494966414649844, 0.06994966414649827, 0.03494966414649867, -5.0335853501735045e-05, -0.035050335853502416, -0.07005033585350197, -0.10505033585350146, -0.1400503358535018, -0.17505033585350238, -0.21005033585350102, -0.24505033585350125, -0.2800503358535014, -0.31505033585350223, -0.35005033585350165, -0.3850503358535017, -0.42005033585350066, -0.45505033585350196, -0.4900503358535026, -0.5250503358535025, -0.5600503358535017, -0.5950503358535009, -0.6300503358535021, -0.6650503358535023, -0.7000503358535018, -0.7350503358535015, -0.7700503358535017, -0.8050503358535013, -0.8400503358535021, -0.8750503358535016, -0.9100503358535019, -0.9450503358535007, -0.9800503358535018, -1.015050335853501, -1.0500503358535007, -1.0850503358535017, -1.1200503358535008, -1.1550503358535016, -1.190050335853502, -1.225050335853502, -1.2600503358535016, -1.295050335853501, -1.3300503358535014, -1.3650503358535016, -1.4000503358535024, -1.4350503358535014, -1.4700503358535009, -1.5050503358535015, -1.5400503358535005, -1.5750503358535022, -1.6100503358535019]\n"
     ]
    }
   ],
   "source": [
    "# entropy\n",
    "\n",
    "\n",
    "# generating logm array\n",
    "logm = []\n",
    "for x in range(len(m)):\n",
    "    logm.append(math.log(m[x]))\n",
    "    \n",
    "print(\"logm:\")\n",
    "print(logm)"
   ]
  },
  {
   "cell_type": "code",
   "execution_count": 34,
   "metadata": {
    "collapsed": false
   },
   "outputs": [
    {
     "name": "stdout",
     "output_type": "stream",
     "text": [
      "Moments of log m (mean, std, gamma1, gamma2)\n",
      "\n",
      "[-0.21047270049082412, 0.034984544443157704, -0.481580723649369, -0.00953414001356645]\n",
      "\n"
     ]
    }
   ],
   "source": [
    "# for the next part a lot of the variables were already being used, so i had to change the names a little\n",
    "\n",
    "kappa1_ = []\n",
    "for x in range(len(p)):\n",
    "    kappa1_.append(p[x]*logm[x])\n",
    "kappa1_ = sum(kappa1_)\n",
    "\n",
    "\n",
    "dev_ = []\n",
    "for x in range(len(logm)):\n",
    "    dev_.append(logm[x]-kappa1_)\n",
    "\n",
    "kappa2_ = []\n",
    "for x in range(len(p)):\n",
    "    kappa2_.append(p[x]*dev[x]**2)\n",
    "kappa2_ = sum(kappa2_)\n",
    "\n",
    "\n",
    "kappa3_ = []\n",
    "for x in range(len(p)):\n",
    "    kappa3_.append(p[x]*dev[x]**3)\n",
    "kappa3_ = sum(kappa3_)\n",
    "\n",
    "\n",
    "kappa4_ = []\n",
    "for x in range(len(p)):\n",
    "    kappa4_.append(p[x]*dev[x]**4)\n",
    "kappa4_ = sum(kappa4_)\n",
    "\n",
    "\n",
    "print('Moments of log m (mean, std, gamma1, gamma2)')\n",
    "print()\n",
    "print([kappa1_, math.sqrt(kappa2_), kappa3_/kappa2_**1.5, kappa4_/kappa2_**2-3])\n",
    "print()"
   ]
  },
  {
   "cell_type": "code",
   "execution_count": 35,
   "metadata": {
    "collapsed": false
   },
   "outputs": [
    {
     "name": "stdout",
     "output_type": "stream",
     "text": [
      "Elogm: -0.21047270049082412\n",
      "logEm: -0.14586196169272514\n",
      "Lm: 0.06461073879809898\n",
      "Lm_lognormal: 0.0006119591749476383\n"
     ]
    }
   ],
   "source": [
    "Elogm = kappa1_\n",
    "\n",
    "pm = []\n",
    "for x in range(len(p)):\n",
    "    pm.append(p[x]*m[x])\n",
    "\n",
    "logEm = math.log(sum(pm))\n",
    "\n",
    "Lm = logEm - Elogm\n",
    "\n",
    "Lm_lognormal = kappa2_/2\n",
    "\n",
    "print(\"Elogm: \" + str(Elogm))\n",
    "print(\"logEm: \" + str(logEm))\n",
    "print(\"Lm: \" + str(Lm))\n",
    "print(\"Lm_lognormal: \" + str(Lm_lognormal))\n",
    "\n"
   ]
  },
  {
   "cell_type": "code",
   "execution_count": 36,
   "metadata": {
    "collapsed": false
   },
   "outputs": [
    {
     "name": "stdout",
     "output_type": "stream",
     "text": [
      "q1: 0.8642769982846663\n",
      "\n",
      "pstar: \n",
      "[0.00027146299783971367, 0.00036246106950455826, 0.00047857892881213756, 0.0006248759584373164, 0.0008068511968364456, 0.0010303141210667513, 0.0013012078132238387, 0.001625388477154236, 0.0020083712256660172, 0.002455058543911902, 0.002969474085433062, 0.0035545294878408197, 0.0042118545918946124, 0.0049417207145882784, 0.005743081573507554, 0.006613746613293775, 0.007550686991778881, 0.00855045626020248, 0.0096096875657039, 0.010725609522061412, 0.011896506784181683, 0.013122042044349835, 0.01440335655455746, 0.015742878429793612, 0.01714379260069551, 0.01860916231169239, 0.020140736539927727, 0.021737525886229545, 0.02339427525622475, 0.025099998283776574, 0.02683675955419915, 0.02857889121654695, 0.030292807777662425, 0.03193753696293259, 0.033466018983753974, 0.03482714789830385, 0.035968445876697015, 0.036839184211156846, 0.03739370383283299, 0.03759465131805923, 0.0374158394567208, 0.036844466263594784, 0.03588248062606034, 0.03454696057412054, 0.03286946241209141, 0.030894394900474523, 0.028676561293439106, 0.026278083514774793, 0.023764969764118026, 0.021203605384588955, 0.01865743655439859, 0.016184080414302866, 0.013833039534859851, 0.011644130890260103, 0.00964666811903337, 0.007859368725066285, 0.006290901507477398, 0.004940948366022832, 0.00380163084832707, 0.0028591452671930294, 0.002095458896064233, 0.0014899402651900203, 0.0010208248216732338, 0.0006664489672406944, 0.00040621694414054357, 0.00022129317844221498, 9.503546476302081e-05, 1.3200750732637643e-05, -3.603487359764723e-05, -6.219646575413e-05, -7.272623805838458e-05, -7.325522217594209e-05, -6.789723450958428e-05, -5.953947032306345e-05, -5.011173003522803e-05, -4.0823235545439014e-05, -3.236179359219305e-05, -2.505451827274442e-05, -1.8992440289469675e-05, -1.41232441620588e-05, -1.031730118691399e-05]\n",
      "\n",
      "checkonepstar: 0.9999999999999998\n",
      "qe: 0.8707770166652687\n"
     ]
    }
   ],
   "source": [
    "# p*\n",
    "\n",
    "q1 = []\n",
    "for x in range(len(p)):\n",
    "    q1.append(p[x]*m[x])\n",
    "\n",
    "q1 = sum(q1)\n",
    "\n",
    "pstar = []\n",
    "for x in range(len(p)):\n",
    "    pstar.append(p[x]*m[x]/q1)\n",
    "\n",
    "checkonepstar = sum(pstar)\n",
    "# equity\n",
    "\n",
    "qe = []\n",
    "for x in range(len(p)):\n",
    "    qe.append(p[x]*m[x]*g[x])\n",
    "\n",
    "qe = sum(qe)\n",
    "\n",
    "\n",
    "print(\"q1: \" + str(q1))\n",
    "print()\n",
    "print(\"pstar: \")\n",
    "print(pstar)\n",
    "print()\n",
    "print(\"checkonepstar: \" + str(checkonepstar))\n",
    "print(\"qe: \" + str(qe))\n",
    "\n",
    "\n"
   ]
  },
  {
   "cell_type": "code",
   "execution_count": 39,
   "metadata": {
    "collapsed": false
   },
   "outputs": [
    {
     "data": {
      "image/png": "[encoded data removed]",
      "text/plain": [
       "<matplotlib.figure.Figure at 0x10d3dc908>"
      ]
     },
     "metadata": {},
     "output_type": "display_data"
    }
   ],
   "source": [
    "# Figures\n",
    "\n",
    "# plotting true and risk-neutral probabilities\n",
    "# x axis: state z\n",
    "# y axis: probabilities \n",
    "\n",
    "plt.title(\"True (blue) and Risk-Neutral (red) Probabilities\")\n",
    "plt.xlabel(\"State z\")\n",
    "plt.ylabel(\"Probability density function\")\n",
    "plt.bar(z,p,0.1,)\n",
    "plt.bar(z,pstar,0.1,color='r')\n",
    "plt.show()\n",
    "\n"
   ]
  }
 ],
 "metadata": {
  "kernelspec": {
   "display_name": "Python 3",
   "language": "python",
   "name": "python3"
  },
  "language_info": {
   "codemirror_mode": {
    "name": "ipython",
    "version": 3
   },
   "file_extension": ".py",
   "mimetype": "text/x-python",
   "name": "python",
   "nbconvert_exporter": "python",
   "pygments_lexer": "ipython3",
   "version": "3.5.1"
  }
 },
 "nbformat": 4,
 "nbformat_minor": 0
}
