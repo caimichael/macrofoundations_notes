{
 "cells": [
  {
   "cell_type": "code",
   "execution_count": 447,
   "metadata": {
    "collapsed": true
   },
   "outputs": [],
   "source": [
    "# merton.ipynb\n",
    "\n",
    "# Option prices and implied vols for Merton model (poisson-normal mixture)  \n",
    "# See Merton (JFE, 1976) for the general setup\n",
    "# Notation \n",
    "#   log re = log r1 + N(mu,sigma^2) + j N(theta,delta^2)\n",
    "#   j = # poisson jumps, intensity omega \n",
    "# Parameters are true (names as is) and risk-neutral (extra s at the end) \n",
    "# Backus, Chernov, and Martin, \"Disasters in equity index options\"\n",
    "\n",
    "# NYU course ECON-UB 233, Macro foundations for asset pricing.\n",
    "\n",
    "# Written by: Michael Cai for Dave Backus"
   ]
  },
  {
   "cell_type": "code",
   "execution_count": 185,
   "metadata": {
    "collapsed": true
   },
   "outputs": [],
   "source": [
    "#BSM Calculations\n",
    "%matplotlib inline\n",
    "import matplotlib.pyplot as plt\n",
    "import numpy as np\n",
    "from scipy.stats import norm\n",
    "from math import log, sqrt, exp, pi, factorial as fac"
   ]
  },
  {
   "cell_type": "code",
   "execution_count": 178,
   "metadata": {
    "collapsed": true
   },
   "outputs": [],
   "source": [
    "#Important functions to conduct element-wise operations\n",
    "\n",
    "#defining an elementwise log function\n",
    "def elog(array):\n",
    "    temp_array = []\n",
    "    for item in array:\n",
    "        temp_array.append(log(item))\n",
    "    return np.asarray(temp_array)\n",
    "\n",
    "#defining an elementwise exponentiation function\n",
    "def eexp(array):\n",
    "    temp_array = []\n",
    "    for item in array:\n",
    "        temp_array.append(exp(item))\n",
    "    return np.asarray(temp_array)\n",
    "\n",
    "#defining an elementwise factorial function\n",
    "def efac(array):\n",
    "    temp_array = []\n",
    "    for item in array:\n",
    "        temp_array.append(fac(item))\n",
    "    return np.asarray(temp_array)"
   ]
  },
  {
   "cell_type": "code",
   "execution_count": 444,
   "metadata": {
    "collapsed": false
   },
   "outputs": [
    {
     "name": "stdout",
     "output_type": "stream",
     "text": [
      "mu = 0.079161 and sigma = 0.169944\n",
      "omega = 1.512000, theta = -0.054212, delta = 0.098100\n",
      "mus = 0.058438\n",
      "probs = \n",
      "[[  8.81614847e-01]\n",
      " [  1.11083471e-01]\n",
      " [  6.99825865e-03]\n",
      " [  2.93926863e-04]\n",
      " [  9.25869620e-06]\n",
      " [  2.33319144e-07]\n",
      " [  4.89970203e-09]\n",
      " [  8.81946365e-11]\n",
      " [  1.38906553e-12]\n",
      " [  1.94469174e-14]\n",
      " [  2.45031159e-16]]\n",
      "checksumprobs = 1.000000\n"
     ]
    }
   ],
   "source": [
    "#Merton Option Model\n",
    "\n",
    "#Parameter values\"\n",
    "tau = 1/12        #maturity of option\n",
    "logr1 = tau*0.020\n",
    "q1 = exp(-logr1)\n",
    "ep = 0.0400\n",
    "sigmare = 0.1800\n",
    "\n",
    "#True distribution (sigma is all we need here)\n",
    "omega = 1.5120\n",
    "theta = -0.0259\n",
    "delta = 0.0407\n",
    "mu = ep - omega*theta\n",
    "sigma = sqrt(sigmare**2-omega*(theta**2+delta**2))\n",
    "print(\"mu = %f and sigma = %f\" %(mu,sigma))\n",
    "\n",
    "#Risk-neutral distribution\n",
    "omegas = 1.5120\n",
    "deltas = 0.0981\n",
    "thetas = log(1-0.0482) - deltas**2/2\n",
    "print(\"omega = %f, theta = %f, delta = %f\" %(omegas, thetas, deltas))\n",
    "\n",
    "#set mu* to satisfy arb condition\n",
    "mus = -sigma**2/2 - omegas*(exp(thetas+deltas**2/2)-1)\n",
    "print(\"mus = %f\"%mus)\n",
    "\n",
    "#2. Option Prices (Merton model)\n",
    "\n",
    "#Strike grid\n",
    "ngrid = 10\n",
    "bscale = 0.08 #bscale = 0.3\n",
    "bgrid = bscale*np.arange(-ngrid,ngrid+1,1)/ngrid + 1\n",
    "logbgrid = elog(bgrid)\n",
    "\n",
    "#probs\n",
    "nprob = 10\n",
    "jgrid = np.arange(0,nprob+1)\n",
    "probs = exp(-tau*omegas)*(tau*omegas)**jgrid/efac(jgrid)\n",
    "checksumprobs = sum(probs)\n",
    "print(\"probs = \")\n",
    "print(np.vstack(probs))\n",
    "print(\"checksumprobs = %f\" %checksumprobs)\n",
    "\n",
    "#vectorize instead of looping\n",
    "logbarray = np.transpose(logbgrid*np.ones((nprob+1,len(logbgrid))))\n",
    "\n",
    "#base parameters\n",
    "kappa1j = (tau*mus + jgrid*thetas)\n",
    "kappa1jarray = kappa1j*np.ones((2*ngrid+1,1))\n",
    "kappa2j = (tau*sigma**2 + jgrid*deltas**2) \n",
    "kappa2jarray = kappa2j*np.ones((2*ngrid+1,1))\n",
    "darray = (logbarray - logr1 - kappa1jarray)/np.sqrt(kappa2jarray)\n",
    "putarray = q1*np.exp(logbarray)*norm.cdf(darray) - np.exp(kappa1jarray+kappa2jarray/2)*norm.cdf(darray-np.sqrt(kappa2jarray))\n",
    "put_base = np.dot(putarray,probs)\n",
    "\n",
    "#small theta\n",
    "thetasmall = 0*theta/2\n",
    "mus_thetasmall = -sigma**2/2 - omegas*(exp(thetasmall+delta**2/2)-1)\n",
    "kappa1j = (tau*mus_thetasmall+jgrid*thetasmall)\n",
    "kappa1jarray = kappa1j*np.ones((2*ngrid+1,1))\n",
    "kappa2j = (tau*sigma**2 + jgrid*deltas**2)\n",
    "kappa2jarray = kappa2j*np.ones((2*ngrid+1,1))\n",
    "darray = (logbarray - logr1 - kappa1jarray)/np.sqrt(kappa2jarray)\n",
    "putarray = q1*np.exp(logbarray)*norm.cdf(darray) - np.exp(kappa1jarray+kappa2jarray/2)*norm.cdf(darray-np.sqrt(kappa2jarray))\n",
    "put_smalltheta = np.dot(putarray,probs)\n",
    "\n",
    "#small delta\n",
    "deltasmall = 0*deltas/sqrt(2)\n",
    "mus_deltasmall = -sigma**2/2 - omegas*(exp(thetas+deltasmall**2/2)-1)\n",
    "kappa1j = (tau*mus_deltasmall + jgrid*thetas)\n",
    "kappa1jarray = kappa1j*np.ones((2*ngrid+1,1))\n",
    "kappa2j = (tau*sigma**2+jgrid*deltasmall**2)\n",
    "kappa2jarray = kappa2j*np.ones((2*ngrid+1,1))\n",
    "darray = (logbarray - logr1 - kappa1jarray)/np.sqrt(kappa2jarray)\n",
    "putarray = q1*np.exp(logbarray)*norm.cdf(darray) - np.exp(kappa1jarray+kappa2jarray/2)*norm.cdf(darray-np.sqrt(kappa2jarray))\n",
    "put_smalldelta = np.dot(putarray,probs)"
   ]
  },
  {
   "cell_type": "code",
   "execution_count": 445,
   "metadata": {
    "collapsed": false
   },
   "outputs": [
    {
     "name": "stdout",
     "output_type": "stream",
     "text": [
      "Univariate consumption model\n",
      "lambda = 5.142857\n",
      "sigma1 = 0.010000\n",
      "omegas = 0.064221\n",
      "theta1s = -0.416759\n",
      "theta2s = -1.069123\n",
      "mu2s = 0.052758\n",
      "checksumprobs = 1.000000\n"
     ]
    }
   ],
   "source": [
    "#Consumption-based Model 1: Univariate with perfect corr between\n",
    "#cons and return\n",
    "#(subscript 1 refers to cons, 2 to returns)\n",
    "print(\"Univariate consumption model\")\n",
    "sigmag = 0.035\n",
    "sigmare = 0.18\n",
    "lambda_ = sigmare/sigmag\n",
    "omega = 0.01\n",
    "#omega = 0\n",
    "theta1 = -0.3\n",
    "delta1 = 0.15\n",
    "sigma1 = sqrt(sigmag**2-omega*(theta1**2+delta1**2))\n",
    "print(\"lambda = %f\"%lambda_)\n",
    "print(\"sigma1 = %f\"%sigma1)\n",
    "\n",
    "alpha = 5.1893\n",
    "omegas = omega*exp(-alpha*theta1+(alpha*delta1)**2/2)\n",
    "theta1s = theta1 - alpha*delta1**2\n",
    "delta1s = delta1\n",
    "print(\"omegas = %f\"%omegas)\n",
    "print(\"theta1s = %f\"%theta1s)\n",
    "print(\"theta2s = %f\"%theta2s)\n",
    "\n",
    "sigma2 = lambda_*sigma1\n",
    "theta2s = lambda_*theta1s\n",
    "delta2s = lambda_*delta1s\n",
    "mu2s = -sigma2**2/2 - omegas*(exp(theta2s+delta2s**2/2)-1)\n",
    "print(\"mu2s = %f\"%mu2s)\n",
    "\n",
    "probs = exp(-tau*omegas)*(tau*omegas)**jgrid/efac(jgrid)\n",
    "checksumprobs = sum(probs)\n",
    "print(\"checksumprobs = %f\"%checksumprobs)\n",
    "\n",
    "kappa1j = (tau*mu2s + jgrid*theta2s)\n",
    "kappa1jarray = kappa1j*np.ones((2*ngrid+1,1))\n",
    "kappa2j = (tau*sigma2**2 + jgrid*delta2s**2)\n",
    "kappa2jarray = kappa2j*np.ones((2*ngrid+1,1))\n",
    "darray = (logbarray - logr1 - kappa1jarray)/np.sqrt(kappa2jarray)\n",
    "putarray = q1*np.exp(logbarray)*norm.cdf(darray) - np.exp(kappa1jarray+kappa2jarray/2)*norm.cdf(darray-np.sqrt(kappa2jarray))\n",
    "put_con = np.dot(putarray,probs)"
   ]
  },
  {
   "cell_type": "code",
   "execution_count": 363,
   "metadata": {
    "collapsed": false
   },
   "outputs": [
    {
     "name": "stdout",
     "output_type": "stream",
     "text": [
      "Bivariate consumption model\n",
      "0.010000000000000012\n",
      "theta2s = -1.069123\n",
      "omegas = 0.109441\n",
      "mu2s = 0.057525\n",
      "mu2 = 0.055429\n",
      "mu2s_alt = 0.057534\n"
     ]
    },
    {
     "data": {
      "text/plain": [
       "array([[ 0.00365093,  0.00222753,  0.0013557 ,  0.00406336,  0.00458263],\n",
       "       [ 0.00431451,  0.00282609,  0.00190403,  0.00410582,  0.00464783],\n",
       "       [ 0.00513208,  0.0036013 ,  0.00263202,  0.0041483 ,  0.00471317],\n",
       "       [ 0.00614187,  0.00459626,  0.00358104,  0.0041908 ,  0.00477866],\n",
       "       [ 0.00738671,  0.00585767,  0.00479568,  0.00423358,  0.00484455],\n",
       "       [ 0.00891236,  0.00743364,  0.00632208,  0.00427879,  0.00491275],\n",
       "       [ 0.01076533,  0.00937104,  0.00820566,  0.00433909,  0.00499495],\n",
       "       [ 0.01299013,  0.01171263,  0.01048866,  0.00446848,  0.00514166],\n",
       "       [ 0.01562651,  0.01449415,  0.01320753,  0.00483091,  0.0055088 ],\n",
       "       [ 0.0187067 ,  0.01774188,  0.01639052,  0.00577703,  0.0064356 ],\n",
       "       [ 0.02225319,  0.02147085,  0.02005581,  0.00781596,  0.0084248 ],\n",
       "       [ 0.02627716,  0.02568393,  0.02421023,  0.01139445,  0.01193142],\n",
       "       [ 0.03077784,  0.03037186,  0.02884885,  0.01661522,  0.01707901],\n",
       "       [ 0.03574277,  0.03551425,  0.03395549,  0.02317038,  0.02357823],\n",
       "       [ 0.04114895,  0.0410813 ,  0.03950389,  0.0305562 ,  0.03093031],\n",
       "       [ 0.04696463,  0.04703605,  0.04545966,  0.03834037,  0.03869699],\n",
       "       [ 0.05315166,  0.05333695,  0.05178254,  0.04627249,  0.04661979],\n",
       "       [ 0.05966795,  0.0599403 ,  0.05842883,  0.0542474 ,  0.05458841],\n",
       "       [ 0.06646983,  0.06680258,  0.06535375,  0.06223199,  0.06256761],\n",
       "       [ 0.0735143 ,  0.07388229,  0.07251354,  0.07021831,  0.07054879],\n",
       "       [ 0.08076066,  0.0811413 ,  0.07986707,  0.07820486,  0.07853034]])"
      ]
     },
     "execution_count": 363,
     "metadata": {},
     "output_type": "execute_result"
    }
   ],
   "source": [
    "#Consumption-based model 2: Bivariate distribution of cons and returns\n",
    "print(\"Bivariate consumption model\")\n",
    "sigmag = 0.035;\n",
    "sigmare = 0.18;\n",
    "lambda_ = 0.18/0.035;\n",
    "omega = 0.01;\n",
    "theta1 = -0.3;\n",
    "delta11 = 0.15**2;\n",
    "sigma11 = sigmag**2-omega*(theta1**2+delta11);\n",
    "print(sqrt(sigma11))   #check\n",
    "\n",
    "alpha = 6.427\n",
    "rho = -0.637\n",
    "#alpha, rho = 5.1893, 1      test: should replicate univariate example \n",
    "sigma12 = rho*lambda_*sigma11\n",
    "sigma22 = lambda_**2*sigma11\n",
    "theta2 = lambda_*theta1\n",
    "mu2 = ep - omega*theta2\n",
    "delta12 = rho*lambda_*delta11\n",
    "delta22 = lambda_**2*delta11\n",
    "\n",
    "theta2s = theta2 - alpha*delta12\n",
    "omegas = omega*exp(-alpha*theta1+alpha**2*delta11/2)\n",
    "mu2s = - sigma22/2 - omegas*(exp(theta2s+delta22/2)-1)\n",
    "print(\"theta2s = %f\"%theta2s)\n",
    "print(\"omegas = %f\"%omegas)\n",
    "print(\"mu2s = %f\"%mu2s)\n",
    "\n",
    "mu2 = ep - omega*theta2\n",
    "mu2s_alt = mu2 - alpha*sigma12 \n",
    "print(\"mu2 = %f\"%mu2)\n",
    "print(\"mu2s_alt = %f\"%mu2s_alt)\n",
    "\n",
    "probs = exp(-tau*omegas)*(tau*omegas)**jgrid/efac(jgrid)\n",
    "kappa1j = (tau*mu2s + jgrid*theta2s)\n",
    "kappa1jarray = kappa1j*np.ones((2*ngrid+1,1))\n",
    "kappa2j = (tau*sigma22 + jgrid*delta22)\n",
    "kappa2jarray = kappa2j*np.ones((2*ngrid+1,1))\n",
    "darray = (logbarray - logr1 - kappa1jarray)/np.sqrt(kappa2jarray)\n",
    "putarray = q1*np.exp(logbarray)*norm.cdf(darray) - np.exp(kappa1jarray+kappa2jarray/2)*norm.cdf(darray-np.sqrt(kappa2jarray))\n",
    "put_bivar = np.dot(putarray,probs)\n",
    "\n",
    "puts = np.vstack((put_base, put_smalltheta, put_smalldelta, put_con, put_bivar)).T\n",
    "puts"
   ]
  },
  {
   "cell_type": "code",
   "execution_count": 446,
   "metadata": {
    "collapsed": false
   },
   "outputs": [
    {
     "name": "stdout",
     "output_type": "stream",
     "text": [
      "Implied volatilities\n",
      "Convergence indicators for vols\n",
      "it = 13\n",
      "maxerror = 0.000000\n",
      "maxrelerror = 0.000000\n",
      "Smile figures\n"
     ]
    },
    {
     "data": {
      "text/plain": [
       "<matplotlib.text.Text at 0x10fecc2e8>"
      ]
     },
     "execution_count": 446,
     "metadata": {},
     "output_type": "execute_result"
    },
    {
     "data": {
      "image/png": "[encoded data removed]",
      "text/plain": [
       "<matplotlib.figure.Figure at 0x11018e710>"
      ]
     },
     "metadata": {},
     "output_type": "display_data"
    }
   ],
   "source": [
    "#3. Implied Vols\n",
    "print(\"Implied volatilities\")\n",
    "vol = np.zeros(np.shape(puts)) + sigmare\n",
    "kappa1 = np.zeros(np.shape(puts))\n",
    "kappa2 = kappa1\n",
    "\n",
    "maxit = 100\n",
    "tol = 1e-10 #tolerance set on relative price error\n",
    "put = puts  #true put prices\n",
    "nstrike, nput = np.shape(put)\n",
    "\n",
    "logbarray = np.transpose(logbgrid*np.ones((nput,len(logbgrid))))\n",
    "\n",
    "#Newton's method on function f[log(vol)] = bsm_price[log(vol)] - price\n",
    "#Derivative fp is the \"vega\" divided by vol (chain rule)\n",
    "#Note: solutoin works for arrays of put prices and strikes\n",
    "\n",
    "for it in np.arange(1,maxit+1):\n",
    "    it\n",
    "    kappa2 = vol**2\n",
    "    kappa1 = -kappa2/2\n",
    "    darray = (logbarray - logr1 - kappa1)/vol\n",
    "    putbsmguess = q1*np.exp(logbarray)*norm.cdf(darray) - norm.cdf(darray-vol)\n",
    "    f = putbsmguess - put\n",
    "    fp = norm.pdf(darray-vol)*vol;      \n",
    "    if np.max(abs(f/put)) < tol:\n",
    "        break      #  two maxes needed for array \n",
    "    logvolnew = np.log(vol) - f/fp\n",
    "    volnew = np.exp(logvolnew)\n",
    "    vol = volnew\n",
    "\n",
    "print(\"Convergence indicators for vols\")\n",
    "it\n",
    "maxerror = np.max(f)\n",
    "maxrelerror = np.max(f/put)\n",
    "vol = vol/sqrt(tau)\n",
    "print(\"it = %d\"%it)\n",
    "print(\"maxerror = %f\"%maxerror)\n",
    "print(\"maxrelerror = %f\"%maxrelerror)\n",
    "\n",
    "#params\n",
    "moneyness = bgrid-1\n",
    "\n",
    "#Figures\n",
    "print(\"Smile figures\")\n",
    "plt.plot(moneyness, vol[:,0], 'k')\n",
    "plt.plot(moneyness, vol[:,1], 'b--')\n",
    "plt.plot(moneyness, vol[:,2], 'm--')\n",
    "plt.axis([-.06,.06,.17,.23])\n",
    "plt.xlabel(\"Moneyness = (s-k)/s\")\n",
    "plt.ylabel(\"Implied Volatility (annual)\")"
   ]
  },
  {
   "cell_type": "code",
   "execution_count": null,
   "metadata": {
    "collapsed": true
   },
   "outputs": [],
   "source": []
  }
 ],
 "metadata": {
  "kernelspec": {
   "display_name": "Python 3",
   "language": "python",
   "name": "python3"
  },
  "language_info": {
   "codemirror_mode": {
    "name": "ipython",
    "version": 3
   },
   "file_extension": ".py",
   "mimetype": "text/x-python",
   "name": "python",
   "nbconvert_exporter": "python",
   "pygments_lexer": "ipython3",
   "version": "3.5.1"
  }
 },
 "nbformat": 4,
 "nbformat_minor": 0
}
