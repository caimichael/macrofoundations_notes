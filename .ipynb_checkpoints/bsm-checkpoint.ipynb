{
 "cells": [
  {
   "cell_type": "code",
   "execution_count": null,
   "metadata": {
    "collapsed": true
   },
   "outputs": [],
   "source": [
    "# bsm.ipynb\n",
    "\n",
    "# Python code for the options chapter, mostly calculations using the \n",
    "# Black-Scholes-Merton formula. \n",
    "# Notation:\n",
    "#      underlying:     s\n",
    "#      strike:         k\n",
    "#      bond price:     q_tau \n",
    "#      volatility:     sigma \n",
    "\n",
    "# NYU course ECON-UB 233, Macro foundations for asset pricing.\n",
    "\n",
    "# Written by: Michael Cai for Dave Backus"
   ]
  },
  {
   "cell_type": "code",
   "execution_count": 33,
   "metadata": {
    "collapsed": true
   },
   "outputs": [],
   "source": [
    "#BSM Calculations\n",
    "%matplotlib inline\n",
    "import matplotlib.pyplot as plt\n",
    "import numpy as np\n",
    "from math import log, sqrt, exp, pi\n",
    "from scipy.stats import norm "
   ]
  },
  {
   "cell_type": "code",
   "execution_count": 21,
   "metadata": {
    "collapsed": true
   },
   "outputs": [],
   "source": [
    "#Important functions to conduct element-wise operations\n",
    "\n",
    "#defining an elementwise log function\n",
    "def elog(array):\n",
    "    temp_array = []\n",
    "    for item in array:\n",
    "        temp_array.append(log(item))\n",
    "    return np.asarray(temp_array)\n",
    "\n",
    "#defining an elementwise exponentiation function\n",
    "def eexp(array):\n",
    "    temp_array = []\n",
    "    for item in array:\n",
    "        temp_array.append(exp(item))\n",
    "    return np.asarray(temp_array)"
   ]
  },
  {
   "cell_type": "code",
   "execution_count": 22,
   "metadata": {
    "collapsed": false
   },
   "outputs": [
    {
     "name": "stdout",
     "output_type": "stream",
     "text": [
      "[ 11.9998815    7.12781638]\n"
     ]
    }
   ],
   "source": [
    "#inputs\n",
    "tau = 1\n",
    "q_tau = 0.98\n",
    "s = 100\n",
    "k = np.array([95,105])\n",
    "sigma = np.array([0.2104])\n",
    "\n",
    "#define price as function of sigma in two steps\n",
    "#this is set up so that either k and sigma have the same dimensions\n",
    "#or one (or both) is a scalar\n",
    "\n",
    "d = lambda k: (elog(s/(q_tau*k))+tau*sigma**2/2)/(sqrt(tau)*sigma)\n",
    "call = lambda sigma: s*norm.cdf(d(k)) - q_tau*k*norm.cdf(d(k)-sqrt(tau)*sigma)\n",
    "\n",
    "q_call = call(sigma)\n",
    "print(q_call)"
   ]
  },
  {
   "cell_type": "code",
   "execution_count": 23,
   "metadata": {
    "collapsed": false
   },
   "outputs": [
    {
     "data": {
      "image/png": "[encoded data removed]",
      "text/plain": [
       "<matplotlib.figure.Figure at 0x10b4d5f60>"
      ]
     },
     "metadata": {},
     "output_type": "display_data"
    }
   ],
   "source": [
    "#Call price v. volatility\n",
    "yield_ = 0.01\n",
    "tau = 0.25\n",
    "q_tau = exp(-tau * yield_)\n",
    "s = 1388\n",
    "k = q_tau*s\n",
    "\n",
    "#define price as a function of sigma\n",
    "d2 = lambda sigma: (log(s/(q_tau*k))+tau*sigma**2)/(sqrt(tau)*sigma)\n",
    "call2 = lambda sigma: s*norm.cdf(d2(sigma)) - q_tau*k*norm.cdf(d2(sigma)-sqrt(tau)*sigma)\n",
    "\n",
    "sigma = np.arange(0.0001,0.50,0.01)\n",
    "q_call = call2(sigma)\n",
    "\n",
    "plt.plot(sigma, q_call)\n",
    "plt.xlabel('Volatility')\n",
    "plt.ylabel('Call Price')\n",
    "plt.show()"
   ]
  },
  {
   "cell_type": "code",
   "execution_count": 114,
   "metadata": {
    "collapsed": false
   },
   "outputs": [
    {
     "name": "stdout",
     "output_type": "stream",
     "text": [
      "yield = 0.005000\n",
      "tau = 0.125000\n",
      "q_tau = 0.999375\n",
      "s = 1757\n",
      "it = 3\n",
      "\n",
      "The loop took 0.002089 seconds\n",
      "[1.282391484669354e-09, 1.1368683772161603e-13]\n",
      "\n",
      "Strike/1000 and Vol\n"
     ]
    },
    {
     "data": {
      "image/png": "[encoded data removed]",
      "text/plain": [
       "<matplotlib.figure.Figure at 0x10e3243c8>"
      ]
     },
     "metadata": {},
     "output_type": "display_data"
    }
   ],
   "source": [
    "import time\n",
    "\n",
    "#Implied Volatility\n",
    "\n",
    "#inputs\n",
    "yield_ = 0.005\n",
    "tau = 0.125\n",
    "q_tau = exp(-tau * yield_)\n",
    "print(\"yield = %f\"%yield_)\n",
    "print(\"tau = %f\"%tau)\n",
    "print(\"q_tau = %f\"%q_tau)\n",
    "\n",
    "#http://www.cmegroup.com/trading/equity-index/us-index/e-mini-sandp500.html\n",
    "#data for 2013-11-05\n",
    "s = 1757\n",
    "print(\"s = %d\"%s)\n",
    "\n",
    "k = np.array([1735,1740,1745,1750,1755,1760,1765,1770,1775,1780])\n",
    "call_last = np.array([42.75,39.25,36.25,33.00,30.00,27.25,24.50,22.00,19.50,17.50])\n",
    "data_matrix = np.column_stack((k, call_last))\n",
    "\n",
    "#BSM formula\n",
    "#define f = call price as a function of sigma, two steps for clarity (or not?)\n",
    "d = lambda sigma,k : (elog(s/(q_tau*k))+tau*sigma**2/2)/(sqrt(tau)*sigma)\n",
    "f = lambda sigma,k : s*norm.cdf(d(sigma,k)) - q_tau*k*norm.cdf(d(sigma,k)\\\n",
    "                    -sqrt(tau)*sigma)-call_last;\n",
    "fp = lambda d: s*sqrt(tau)*eexp(-d**2/2)/sqrt(2*pi)\n",
    "\n",
    "#convergence paramaters\n",
    "tol =1e-8\n",
    "maxit = 50\n",
    "\n",
    "#starting values\n",
    "#NB: we do this for log(sigma), which makes sure sigma is positive\n",
    "x_now = 0.12 + np.zeros(k.shape)\n",
    "f_now = f(x_now, k)\n",
    "\n",
    "#Compute implied volatility\n",
    "\n",
    "t0 = time.time()\n",
    "for it in np.arange(1,maxit):\n",
    "    fp_now = fp(d(x_now,k))\n",
    "    x_new = x_now - f_now/fp_now\n",
    "    f_new = f(x_new,k)\n",
    "    diff_x = max(abs(x_new - x_now))\n",
    "    diff_f = max(abs(f_new))\n",
    "    \n",
    "    if max(diff_x,diff_f) < tol:\n",
    "        break\n",
    "    \n",
    "    else:\n",
    "        x_before = x_now\n",
    "        x_now = x_new\n",
    "        f_before = f_now\n",
    "        f_now = f_new\n",
    "        \n",
    "#display results\n",
    "print(\"it = %d\"%it)\n",
    "time = time.time()-t0\n",
    "print(\"\\nThe loop took %f seconds\"%time)\n",
    "diffs = [diff_x, diff_f]\n",
    "print(diffs)\n",
    "print(\"\\nStrike/1000 and Vol\")\n",
    "vol = x_new\n",
    "[k/1000, vol]\n",
    "\n",
    "plt.plot(k, vol, marker=\"+\")\n",
    "plt.xlabel('Strike Price')\n",
    "plt.ylabel('Implied Volatility')\n",
    "plt.show()"
   ]
  },
  {
   "cell_type": "code",
   "execution_count": 113,
   "metadata": {
    "collapsed": false
   },
   "outputs": [
    {
     "name": "stdout",
     "output_type": "stream",
     "text": [
      "Inputs\n",
      "s = 100.000000\n",
      "mu = 4.606881\n",
      "\n",
      " Strike, puts, calls\n",
      "[[  9.00000000e+01   1.60618279e-01   1.01606183e+01]\n",
      " [  9.20000000e+01   1.96258866e-01   8.19625887e+00]\n",
      " [  9.40000000e+01   2.80550994e-01   6.28055099e+00]\n",
      " [  9.60000000e+01   4.87560969e-01   4.48756097e+00]\n",
      " [  9.80000000e+01   9.28547699e-01   2.92854770e+00]\n",
      " [  1.00000000e+02   1.71098063e+00   1.71098063e+00]\n",
      " [  1.02000000e+02   2.88014683e+00   8.80146829e-01]\n",
      " [  1.04000000e+02   4.39390477e+00   3.93904773e-01]\n",
      " [  1.06000000e+02   6.15231205e+00   1.52312049e-01]\n",
      " [  1.08000000e+02   8.05079004e+00   5.07900397e-02]\n",
      " [  1.10000000e+02   1.00146779e+01   1.46779459e-02]]\n",
      "\n",
      "it = 8\n",
      "\n",
      "The loop took 0.006700 seconds\n",
      "diffs = \n",
      "[1.2543022176458862e-12, 1.4210854715202004e-14]\n",
      "\n",
      "Strike/1000 and Vol\n"
     ]
    },
    {
     "data": {
      "image/png": "[encoded data removed]",
      "text/plain": [
       "<matplotlib.figure.Figure at 0x10e846cc0>"
      ]
     },
     "metadata": {},
     "output_type": "display_data"
    }
   ],
   "source": [
    "import time\n",
    "#Bernoulli Mixture\n",
    "\n",
    "print(\"Inputs\")\n",
    "tau = 1\n",
    "q1 = 1\n",
    "q_tau = q1\n",
    "s = 100.00\n",
    "k = np.arange(90,112,2)\n",
    "print(\"s = %f\"%s)\n",
    "\n",
    "sigma = 0.04\n",
    "omega = 0.01   #alternate 0.0 (BSM) and 0.01(mixture)\n",
    "theta = -0.3\n",
    "delta = 0.15\n",
    "\n",
    "#apply no-arb condition\n",
    "mu = log(s/q1) - sigma**2/2 - log((1-omega)+omega*exp(theta+delta**2/2))\n",
    "print(\"mu = %f\"%mu)\n",
    "\n",
    "#branch 1\n",
    "d1 = (elog(k)-mu)/sigma\n",
    "put1 = q1*k*norm.cdf(d1) - q1*exp(mu+sigma**2/2)*norm.cdf(d1-sigma)\n",
    "\n",
    "#branch 2\n",
    "d2 = (elog(k)-(mu+theta))/sqrt(sigma**2+delta**2)\n",
    "put2 = q1*k*norm.cdf(d2) - q1*exp((mu+theta)+(sigma**2+delta**2)/2)*norm.cdf(d2-sqrt(sigma**2+delta**2))\n",
    "\n",
    "puts = (1-omega)*put1 + omega*put2\n",
    "calls = puts + s - q1*k\n",
    "\n",
    "print(\"\\n Strike, puts, calls\")\n",
    "print(np.transpose([k, puts, calls]))\n",
    "\n",
    "#BSM formula\n",
    "#define f = call price as a function of sigma, in two steps\n",
    "#fp is the derivative (the vega), used in Newton's method routine\n",
    "d = lambda sigma,k : (elog(s/(q_tau*k))+tau*sigma**2/2)/(sqrt(tau)*sigma)\n",
    "f = lambda sigma,k : s*norm.cdf(d(sigma,k)) - q_tau*k*norm.cdf(d(sigma,k)\\\n",
    "                    -sqrt(tau)*sigma)-calls;\n",
    "fp = lambda d: s*sqrt(tau)*eexp(-d**2/2)/sqrt(2*pi)\n",
    "\n",
    "\n",
    "#convergence parameters\n",
    "tol = 1e-8\n",
    "maxit = 50\n",
    "\n",
    "#starting values\n",
    "x_now = 0.12 + np.zeros(k.shape)\n",
    "f_now = f(x_now,k)\n",
    "\n",
    "#compute implied vol\n",
    "\n",
    "t0 = time.time()\n",
    "for it in np.arange(1,maxit):\n",
    "    fp_now = fp(d(x_now,k))\n",
    "    x_new = x_now - f_now/fp_now\n",
    "    f_new = f(x_new,k)\n",
    "    diff_x = max(abs(x_new - x_now))\n",
    "    diff_f = max(abs(f_new))\n",
    "    \n",
    "    if max(diff_x,diff_f) < tol:\n",
    "        break\n",
    "    \n",
    "    else:\n",
    "        x_before = x_now\n",
    "        x_now = x_new\n",
    "        f_before = f_now\n",
    "        f_now = f_new\n",
    "\n",
    "#display results\n",
    "print(\"\\nit = %d\"%it)\n",
    "time = time.time()-t0\n",
    "print(\"\\nThe loop took %f seconds\"%time)\n",
    "diffs = [diff_x, diff_f]\n",
    "print(\"diffs = \")\n",
    "print(diffs)\n",
    "print(\"\\nStrike/1000 and Vol\")\n",
    "vol = x_new\n",
    "np.transpose([k/1000, vol])\n",
    "\n",
    "#plot smile\n",
    "plt.plot(k, vol, marker = \"+\")\n",
    "plt.xlabel(\"Strike Price\")\n",
    "plt.ylabel(\"Implied Volatility\")\n",
    "plt.show()"
   ]
  },
  {
   "cell_type": "code",
   "execution_count": null,
   "metadata": {
    "collapsed": true
   },
   "outputs": [],
   "source": []
  }
 ],
 "metadata": {
  "kernelspec": {
   "display_name": "Python 3",
   "language": "python",
   "name": "python3"
  },
  "language_info": {
   "codemirror_mode": {
    "name": "ipython",
    "version": 3
   },
   "file_extension": ".py",
   "mimetype": "text/x-python",
   "name": "python",
   "nbconvert_exporter": "python",
   "pygments_lexer": "ipython3",
   "version": "3.5.1"
  }
 },
 "nbformat": 4,
 "nbformat_minor": 0
}
