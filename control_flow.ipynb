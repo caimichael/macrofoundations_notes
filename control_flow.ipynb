{
 "cells": [
  {
   "cell_type": "code",
   "execution_count": null,
   "metadata": {
    "collapsed": true
   },
   "outputs": [],
   "source": [
    "# controlflow.ipynb\n",
    "\n",
    "# overview of control flow in python\n",
    "\n",
    "# NYU course ECON-UB 233, Macro foundations for asset pricing.\n",
    "\n",
    "# Written by: Mike Saint-Antoine for Dave Backus"
   ]
  },
  {
   "cell_type": "code",
   "execution_count": 2,
   "metadata": {
    "collapsed": false
   },
   "outputs": [
    {
     "name": "stdout",
     "output_type": "stream",
     "text": [
      "If Statements\n",
      "Absolute Value Example\n",
      "x: 4\n"
     ]
    }
   ],
   "source": [
    "import matplotlib.pyplot as plt\n",
    "import numpy as np\n",
    "import math\n",
    "\n",
    "print(\"if statements\")\n",
    "print(\"absolute value example\")\n",
    "\n",
    "x = 4\n",
    "if x <= 0:\n",
    "    x = -x\n",
    "\n",
    "print(\"x: \" + str(x))"
   ]
  },
  {
   "cell_type": "code",
   "execution_count": 3,
   "metadata": {
    "collapsed": false
   },
   "outputs": [
    {
     "name": "stdout",
     "output_type": "stream",
     "text": [
      "Else\n",
      "x: 14\n"
     ]
    }
   ],
   "source": [
    "print(\"else\")\n",
    "\n",
    "x = 7\n",
    "if x <= 0:\n",
    "    x = -x\n",
    "else:\n",
    "    x = 2*x\n",
    "\n",
    "print(\"x: \" + str(x))"
   ]
  },
  {
   "cell_type": "code",
   "execution_count": 4,
   "metadata": {
    "collapsed": false
   },
   "outputs": [
    {
     "name": "stdout",
     "output_type": "stream",
     "text": [
      "multiple conditions\n",
      "x: 11\n"
     ]
    }
   ],
   "source": [
    "print('multiple conditions')\n",
    "\n",
    "x = 11\n",
    "if x >= 0 and x <= 10:        #  && = and, || = or\n",
    "    x = 0;\n",
    "\n",
    "print(\"x: \" + str(x))"
   ]
  },
  {
   "cell_type": "code",
   "execution_count": 5,
   "metadata": {
    "collapsed": false
   },
   "outputs": [
    {
     "name": "stdout",
     "output_type": "stream",
     "text": [
      "for loops\n",
      "factorial example\n",
      "total: 48\n"
     ]
    }
   ],
   "source": [
    "print('for loops')\n",
    "\n",
    "print('factorial example')\n",
    "\n",
    "maxit = 8\n",
    "total = 1\n",
    "for it in range(2,maxit+1,2):\n",
    "    # had to make it maxit+1 because the second argument is not where it stops at\n",
    "    total = total*it\n",
    "    if total >= 10:\n",
    "        break\n",
    "\n",
    "print(\"total: \" + str(total))\n"
   ]
  },
  {
   "cell_type": "code",
   "execution_count": 6,
   "metadata": {
    "collapsed": false
   },
   "outputs": [
    {
     "name": "stdout",
     "output_type": "stream",
     "text": [
      "go through an arbitrary list\n",
      "1\n",
      "8\n",
      "3\n",
      "99\n"
     ]
    }
   ],
   "source": [
    "print('go through an arbitrary list')\n",
    "\n",
    "list1 = [1, 8, 3, 99]\n",
    "for x in list1:\n",
    "    print(x)"
   ]
  },
  {
   "cell_type": "code",
   "execution_count": 7,
   "metadata": {
    "collapsed": false
   },
   "outputs": [
    {
     "name": "stdout",
     "output_type": "stream",
     "text": [
      "find first negative number in list\n",
      "1\n",
      "8\n",
      "-3\n"
     ]
    }
   ],
   "source": [
    "print('find first negative number in list')\n",
    "\n",
    "list2 = [1, 8, -3, 99]\n",
    "for x in list2:\n",
    "    print(x)\n",
    "    if x <= 0:\n",
    "        break"
   ]
  },
  {
   "cell_type": "code",
   "execution_count": 8,
   "metadata": {
    "collapsed": false
   },
   "outputs": [
    {
     "name": "stdout",
     "output_type": "stream",
     "text": [
      "anonymous functions\n",
      "x-squared example\n",
      "49\n"
     ]
    }
   ],
   "source": [
    "print('anonymous functions')\n",
    "\n",
    "print('x-squared example')\n",
    "\n",
    "def f(x):\n",
    "    return(x**2)\n",
    "\n",
    "print(f(7))"
   ]
  },
  {
   "cell_type": "code",
   "execution_count": 9,
   "metadata": {
    "collapsed": false
   },
   "outputs": [
    {
     "name": "stdout",
     "output_type": "stream",
     "text": [
      "vectorized\n",
      "[9, 49]\n"
     ]
    }
   ],
   "source": [
    "print('vectorized')\n",
    "\n",
    "def g(x):\n",
    "    answers = list()\n",
    "    for item in x:\n",
    "        answers.append(item**2)\n",
    "    return answers\n",
    "\n",
    "print(g([3, 7]))"
   ]
  },
  {
   "cell_type": "code",
   "execution_count": null,
   "metadata": {
    "collapsed": true
   },
   "outputs": [],
   "source": []
  }
 ],
 "metadata": {
  "kernelspec": {
   "display_name": "Python 3",
   "language": "python",
   "name": "python3"
  },
  "language_info": {
   "codemirror_mode": {
    "name": "ipython",
    "version": 3
   },
   "file_extension": ".py",
   "mimetype": "text/x-python",
   "name": "python",
   "nbconvert_exporter": "python",
   "pygments_lexer": "ipython3",
   "version": "3.5.1"
  }
 },
 "nbformat": 4,
 "nbformat_minor": 0
}
