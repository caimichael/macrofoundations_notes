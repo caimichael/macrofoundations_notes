{
 "cells": [
  {
   "cell_type": "code",
   "execution_count": 1,
   "metadata": {
    "collapsed": true
   },
   "outputs": [],
   "source": [
    "#affine_models.ipynb\n",
    "#Solve affine models, pick parameter values\n",
    "\n",
    "# NYU course ECON-UB 233, Macro foundations for asset pricing.\n",
    "\n",
    "# Written by: Michael Cai for Dave Backus"
   ]
  },
  {
   "cell_type": "code",
   "execution_count": 29,
   "metadata": {
    "collapsed": true
   },
   "outputs": [],
   "source": [
    "%matplotlib inline\n",
    "import numpy as np\n",
    "import matplotlib.pyplot as plt\n",
    "from math import sqrt"
   ]
  },
  {
   "cell_type": "code",
   "execution_count": 76,
   "metadata": {
    "collapsed": false
   },
   "outputs": [
    {
     "name": "stdout",
     "output_type": "stream",
     "text": [
      "Vasicek model\n",
      "Data input\n",
      "autocorr_f0 = 0.959000\n",
      "var_f0 = 0.000005\n",
      "Ef0 = 0.005569, Ef120 = 0.007382, Efp120 = 0.001813\n",
      " \n",
      "Parameter values\n",
      "Forward rate regression coefficient b1\n"
     ]
    },
    {
     "data": {
      "text/plain": [
       "<matplotlib.text.Text at 0x1102b30b8>"
      ]
     },
     "execution_count": 76,
     "metadata": {},
     "output_type": "execute_result"
    },
    {
     "data": {
      "image/png": "[encoded data removed]",
      "text/plain": [
       "<matplotlib.figure.Figure at 0x10ff59f60>"
      ]
     },
     "metadata": {},
     "output_type": "display_data"
    }
   ],
   "source": [
    "print('Vasicek model')\n",
    "\n",
    "#Inputs\n",
    "print('Data input')\n",
    "autocorr_f0 = 0.959 \n",
    "print('autocorr_f0 = %f'%autocorr_f0)\n",
    "var_f0 = (2.703/1200)**2\n",
    "print('var_f0 = %f' %var_f0)\n",
    "Ef0 = 6.683/1200 \n",
    "Ef120 = 8.858/1200\n",
    "Efp120 = Ef120 - Ef0 \n",
    "print('Ef0 = %f, Ef120 = %f, Efp120 = %f'%(Ef0,Ef120,Efp120))\n",
    "\n",
    "#Parameters and recursions\n",
    " \n",
    "print(' ')\n",
    "print('Parameter values')  \n",
    "phi = autocorr_f0\n",
    "sigma = sqrt((1-phi**2)*var_f0)    #  note sign convention \n",
    "lambda_ = -0.125\n",
    "delta = -Ef0 - lambda_**2/2; \n",
    "\n",
    "#Initializations\n",
    "maxmat = 122\n",
    "A = np.zeros((maxmat,1))\n",
    "B = np.zeros((maxmat,1)) \n",
    "A[0] = 0\n",
    "B[0] = 0\n",
    "\n",
    "for mat in np.arange(1,maxmat):\n",
    "    #NB: maturities start at n=0, makes initial conditions simple\n",
    "    A[mat] = A[mat-1] + delta + (lambda_ + B[mat-1]*sigma)**2/2\n",
    "    B[mat] = phi*B[mat-1] - 1\n",
    "\n",
    "\n",
    "Adiff = np.diff(A, n=1, axis=0)\n",
    "Bdiff = np.diff(B, n=1, axis=0)\n",
    "\n",
    "print('Forward rate regression coefficient b1')\n",
    "b1 = (phi-1)/(Bdiff[0]-Bdiff[1])\n",
    "\n",
    "f_bar = -Adiff\n",
    "imatf = np.arange(0,maxmat-1)\n",
    "\n",
    "imatsome = np.array([0,1,3,6,12,36,60,120]).T\n",
    "f_data = np.array([6.683,7.098,7.469,7.685,7.921,8.498,8.714,8.858]).T\n",
    "\n",
    "#Figures\n",
    "plt.plot(imatf, 1200*f_bar)\n",
    "plt.plot(imatsome,f_data, 'b*')\n",
    "plt.title('Mean Forward Rate for Vasicek Model')\n",
    "plt.xlabel('Maturity n in Months')\n",
    "plt.ylabel('Mean Forward Rate')"
   ]
  },
  {
   "cell_type": "code",
   "execution_count": 79,
   "metadata": {
    "collapsed": false
   },
   "outputs": [
    {
     "name": "stdout",
     "output_type": "stream",
     "text": [
      "Cox-Ingersoll-Ross model\n",
      "Data input\n",
      "Parameter values\n",
      "Forward rate regression coefficient b1\n"
     ]
    },
    {
     "data": {
      "text/plain": [
       "<matplotlib.text.Text at 0x110898358>"
      ]
     },
     "execution_count": 79,
     "metadata": {},
     "output_type": "execute_result"
    },
    {
     "data": {
      "image/png": "[encoded data removed]",
      "text/plain": [
       "<matplotlib.figure.Figure at 0x11078e2e8>"
      ]
     },
     "metadata": {},
     "output_type": "display_data"
    }
   ],
   "source": [
    "print('Cox-Ingersoll-Ross model')\n",
    "\n",
    "#Inputs\n",
    "print('Data input')\n",
    "autocorr_f0 = 0.959 \n",
    "var_f0 = (2.73/1200)**2\n",
    "Ef0 = 6.683/1200 \n",
    "Ef120 = 8.858/1200\n",
    "Efp120 = Ef120 - Ef0\n",
    "\n",
    "#Parameters and recursions\n",
    "print('Parameter values')\n",
    "phi = autocorr_f0\n",
    "delta = Ef0\n",
    "sigma = sqrt((1-phi**2)*var_f0/delta)\n",
    "lambda_ = 1.32\n",
    "\n",
    "#Initializations\n",
    "maxmat = 122\n",
    "A = np.zeros((maxmat,1))\n",
    "B = np.zeros((maxmat,1)) \n",
    "A[0] = 0\n",
    "B[0] = 0\n",
    "\n",
    "for mat in np.arange(1,maxmat):\n",
    "    A[mat] = A[mat-1] + B[mat-1]*(1-phi)*delta\n",
    "    B[mat] = phi*B[mat-1] - (1+lambda_**2/2) + (lambda_+B[mat-1]*sigma)**2/2\n",
    "\n",
    "Adiff = np.diff(A, n=1, axis=0)\n",
    "Bdiff = np.diff(B, n=1, axis=0)\n",
    "\n",
    "print('Forward rate regression coefficient b1')\n",
    "b1 = (phi-1)/(Bdiff[0]-Bdiff[1])\n",
    "\n",
    "f_bar = -Adiff - Bdiff*delta\n",
    "imatf = np.arange(0,maxmat-1)\n",
    "\n",
    "imatsome = np.array([0,1,3,6,12,36,60,120]).T\n",
    "f_data = np.array([6.683,7.098,7.469,7.685,7.921,8.498,8.714,8.858]).T\n",
    "\n",
    "#Figures\n",
    "plt.plot(imatf, 1200*f_bar)\n",
    "plt.plot(imatsome,f_data, 'b*')\n",
    "plt.title('Mean Forward Rate for CIR Model')\n",
    "plt.xlabel('Maturity n in Months')\n",
    "plt.ylabel('Mean Forward Rate')"
   ]
  },
  {
   "cell_type": "code",
   "execution_count": 80,
   "metadata": {
    "collapsed": false
   },
   "outputs": [
    {
     "name": "stdout",
     "output_type": "stream",
     "text": [
      "Another affine model\n",
      "Data input\n",
      "Parameter values\n",
      "Forward rate regression coefficient b1\n"
     ]
    },
    {
     "data": {
      "text/plain": [
       "<matplotlib.text.Text at 0x110a2ee80>"
      ]
     },
     "execution_count": 80,
     "metadata": {},
     "output_type": "execute_result"
    },
    {
     "data": {
      "image/png": "[encoded data removed]",
      "text/plain": [
       "<matplotlib.figure.Figure at 0x110a167f0>"
      ]
     },
     "metadata": {},
     "output_type": "display_data"
    }
   ],
   "source": [
    "print('Another affine model')\n",
    "\n",
    "#Inputs\n",
    "\n",
    "print('Data input')\n",
    "autocorr_f0 = 0.959 \n",
    "var_f0 = (2.73/1200)**2\n",
    "Ef0 = 6.683/1200 \n",
    "Ef120 = 8.858/1200\n",
    "Efp120 = Ef120 - Ef0\n",
    "\n",
    "#Parameters and recursions\n",
    "print('Parameter values')\n",
    "phi = autocorr_f0\n",
    "delta = -Ef0\n",
    "sigma = sqrt((1-phi**2)*var_f0)\n",
    "lambda1 = 0\n",
    "lambda0 = 0.125\n",
    "\n",
    "#Initializations\n",
    "maxmat = 122\n",
    "A = np.zeros((maxmat,1))\n",
    "B = np.zeros((maxmat,1)) \n",
    "A[0] = 0\n",
    "B[0] = 0\n",
    "\n",
    "for mat in np.arange(1,maxmat):\n",
    "    A[mat] = A[mat-1] + delta + (B[mat-1]*sigma)**2/2 + B[mat-1]*sigma*lambda0;\n",
    "    B[mat] = phi*B[mat-1] - 1 + B[mat-1]*sigma*lambda1;\n",
    "\n",
    "Adiff = np.diff(A, n=1, axis=0)\n",
    "Bdiff = np.diff(B, n=1, axis=0)\n",
    "\n",
    "print('Forward rate regression coefficient b1')\n",
    "b1 = (phi-1)/(Bdiff[0]-Bdiff[1])\n",
    "\n",
    "f_bar = -Adiff\n",
    "imatf = np.arange(0,maxmat-1)\n",
    "\n",
    "imatsome = np.array([0,1,3,6,12,36,60,120]).T\n",
    "f_data = np.array([6.683,7.098,7.469,7.685,7.921,8.498,8.714,8.858]).T\n",
    "\n",
    "#Figures\n",
    "plt.plot(imatf, 1200*f_bar)\n",
    "plt.plot(imatsome,f_data, 'b*')\n",
    "plt.title('Mean Forward Rate for CIR Model')\n",
    "plt.xlabel('Maturity n in Months')\n",
    "plt.ylabel('Mean Forward Rate')"
   ]
  }
 ],
 "metadata": {
  "kernelspec": {
   "display_name": "Python 3",
   "language": "python",
   "name": "python3"
  },
  "language_info": {
   "codemirror_mode": {
    "name": "ipython",
    "version": 3
   },
   "file_extension": ".py",
   "mimetype": "text/x-python",
   "name": "python",
   "nbconvert_exporter": "python",
   "pygments_lexer": "ipython3",
   "version": "3.5.1"
  }
 },
 "nbformat": 4,
 "nbformat_minor": 0
}
