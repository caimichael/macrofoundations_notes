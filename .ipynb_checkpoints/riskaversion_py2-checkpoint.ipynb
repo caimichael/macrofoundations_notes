{
 "cells": [
  {
   "cell_type": "code",
   "execution_count": 1,
   "metadata": {
    "collapsed": true
   },
   "outputs": [],
   "source": [
    "#riskaversion.ipynb\n",
    "#Find your risk aversion alpha given introspection about your\n",
    "#certainty equivalent"
   ]
  },
  {
   "cell_type": "markdown",
   "metadata": {},
   "source": [
    "**1. Risk penalty v. alpha**"
   ]
  },
  {
   "cell_type": "code",
   "execution_count": 29,
   "metadata": {
    "collapsed": false
   },
   "outputs": [
    {
     "data": {
      "image/png": "[encoded data removed]",
      "text/plain": [
       "<matplotlib.figure.Figure at 0x103bf1ed0>"
      ]
     },
     "metadata": {},
     "output_type": "display_data"
    }
   ],
   "source": [
    "%matplotlib inline\n",
    "import numpy as np\n",
    "from math import log\n",
    "from matplotlib import pyplot as plt\n",
    "\n",
    "cbar = 150;\n",
    "sigma = 75;\n",
    "c1 = cbar - sigma;\n",
    "c2 = cbar + sigma;\n",
    "\n",
    "amin = 0.11 \n",
    "amax = 10\n",
    "astep = .1\n",
    "alphagrid = np.arange(amin,amax,astep)\n",
    "\n",
    "mulist = []\n",
    "rplist = []\n",
    "\n",
    "for item in alphagrid:\n",
    "    mu = (0.5*c1**(1-item)+0.5*c2**(1-item))**(1/(1-item))\n",
    "    mulist.append(mu)\n",
    "    rplist.append(log(cbar/mu))\n",
    "    \n",
    "plt.plot(alphagrid,rplist)\n",
    "plt.show()"
   ]
  },
  {
   "cell_type": "markdown",
   "metadata": {},
   "source": [
    "**2. Find your own risk aversion**"
   ]
  },
  {
   "cell_type": "code",
   "execution_count": 30,
   "metadata": {
    "collapsed": false
   },
   "outputs": [
    {
     "name": "stdout",
     "output_type": "stream",
     "text": [
      "135.260095383\n"
     ]
    }
   ],
   "source": [
    "c1 = 100\n",
    "c2 = 200\n",
    "cbar = 150\n",
    "\n",
    "mu = 135               #input from class discussion\n",
    "rp = log(cbar/mu)      \n",
    "\n",
    "alpha = 1.75           #comment: enter number of your choice\n",
    "#the answer\n",
    "mu_guess = (0.5*c1**(1-alpha)+0.5*c2**(1-alpha))**(1/(1-alpha))\n",
    "#print mu_guess"
   ]
  },
  {
   "cell_type": "code",
   "execution_count": null,
   "metadata": {
    "collapsed": true
   },
   "outputs": [],
   "source": []
  }
 ],
 "metadata": {
  "kernelspec": {
   "display_name": "Python 2",
   "language": "python",
   "name": "python2"
  },
  "language_info": {
   "codemirror_mode": {
    "name": "ipython",
    "version": 2
   },
   "file_extension": ".py",
   "mimetype": "text/x-python",
   "name": "python",
   "nbconvert_exporter": "python",
   "pygments_lexer": "ipython2",
   "version": "2.7.11"
  }
 },
 "nbformat": 4,
 "nbformat_minor": 0
}
